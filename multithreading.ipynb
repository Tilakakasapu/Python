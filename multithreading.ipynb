{
 "cells": [
  {
   "cell_type": "code",
   "execution_count": 2,
   "id": "b75fd1f5-6d28-4685-8c1a-17885df2c3aa",
   "metadata": {},
   "outputs": [],
   "source": [
    "#multithreading in python is the process in which a process is done simultaneously using multiple threads in a single core\n",
    "#the purpose of multithreading is to increase the performance of the program by using multiple threads\n",
    "#threading is the module that should be imported"
   ]
  },
  {
   "cell_type": "code",
   "execution_count": 4,
   "id": "e9d06b85-1a43-4fd0-9008-e8074c936299",
   "metadata": {},
   "outputs": [],
   "source": [
    "#threading module is imported to achieve the multithreading using the metnods in that module\n",
    "#activecount() is used to get current number of active threads\n",
    "#currentthread() is used to obtain a referrance to the current executing thread\n",
    "#enumerate() is used to iterate over a sequence while keeping track of the curent item"
   ]
  },
  {
   "cell_type": "code",
   "execution_count": 5,
   "id": "829b6ec8-12a5-4362-993c-945baacf1a4a",
   "metadata": {},
   "outputs": [],
   "source": [
    "#run() --> run method is an essential method that is called when the thread is started usin start method and the run method defined the task or code that thread will execute while it is runnung\n",
    "#start() --> start method is used to simmply start the thread\n",
    "#join() --> joinn method is used to wait for a thread to complete its execution before proceeding to the other threads\n",
    "#isalive() --> isalive() method is used to chack wheather a thread is currently running or completed its execution"
   ]
  },
  {
   "cell_type": "code",
   "execution_count": 7,
   "id": "08fb88cf-5387-460e-9f57-986756df0d2e",
   "metadata": {},
   "outputs": [
    {
     "name": "stdout",
     "output_type": "stream",
     "text": [
      "list of squares:[0, 1, 4]\n",
      "list of cubes [0, 1, 8, 27]\n"
     ]
    }
   ],
   "source": [
    "import threading\n",
    "def square(n):\n",
    "    l = [i*i for i in range(n)]\n",
    "    print(f'list of squares:{l}')\n",
    "def cube(n):\n",
    "    li = [i**3 for i in range(n)]\n",
    "    print(f'list of cubes {li}')\n",
    "thread1 = threading.Thread(target=square,args=(3,))\n",
    "thread2 = threading.Thread(target=cube,args=(4,))\n",
    "thread1.start()\n",
    "thread2.start()\n",
    "thread1.join()\n",
    "thread2.join()"
   ]
  },
  {
   "cell_type": "code",
   "execution_count": 8,
   "id": "a6a24790-bfe2-461b-94f3-449031b91f4a",
   "metadata": {},
   "outputs": [
    {
     "data": {
      "text/plain": [
       "'complexity : multithreading involves complexities like race conditions and dead locks\\nbugs and errors:multithreading can lead to undetermained behavior and may results in errors and bugs'"
      ]
     },
     "execution_count": 8,
     "metadata": {},
     "output_type": "execute_result"
    }
   ],
   "source": [
    "#advantages of multi threading :\n",
    "'''concurrency: multithreading allows tasks to run simultaneously by making the best use of cpu resources\n",
    "responsiveness: multithreading keeps a task responsive ti user-interactions\n",
    "resourse sharinng:multithreading allows resouces to be used in multiple threads'''\n",
    "#disadvantages of multi threading:\n",
    "'''complexity : multithreading involves complexities like race conditions and dead locks\n",
    "bugs and errors:multithreading can lead to undetermained behavior and may results in errors and bugs'''"
   ]
  },
  {
   "cell_type": "code",
   "execution_count": 9,
   "id": "6efcd7ce-fccc-468d-acd5-05c2f633dc38",
   "metadata": {},
   "outputs": [],
   "source": [
    "#race conditionals: race condtionals occur then more threads try to access and modify a shared resourse concurrently leading to a unexpected behavior\n",
    "#dead locks: dead lock occur when two or more threads are not processig but waiting for a resource which another thread holds and resluting in a dead lock state\n"
   ]
  },
  {
   "cell_type": "code",
   "execution_count": null,
   "id": "46ac905b-84ff-4b1d-b162-ee731e8a9bd4",
   "metadata": {},
   "outputs": [],
   "source": []
  }
 ],
 "metadata": {
  "kernelspec": {
   "display_name": "Python 3 (ipykernel)",
   "language": "python",
   "name": "python3"
  },
  "language_info": {
   "codemirror_mode": {
    "name": "ipython",
    "version": 3
   },
   "file_extension": ".py",
   "mimetype": "text/x-python",
   "name": "python",
   "nbconvert_exporter": "python",
   "pygments_lexer": "ipython3",
   "version": "3.10.8"
  }
 },
 "nbformat": 4,
 "nbformat_minor": 5
}
