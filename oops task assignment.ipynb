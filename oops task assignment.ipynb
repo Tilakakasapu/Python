{
 "cells": [
  {
   "cell_type": "code",
   "execution_count": 2,
   "id": "f8302121-bed7-43b8-85f7-ad96db98e9ad",
   "metadata": {},
   "outputs": [],
   "source": [
    "class vehicle:\n",
    "    def __init__(self,name_of_vehicle,max_speed,average_of_vehicle):\n",
    "        self.name = name_of_vehicle\n",
    "        self.max_speed = max_speed\n",
    "        self.average = average_of_vehicle\n",
    "bike = vehicle(\"KTM\",200,100)"
   ]
  },
  {
   "cell_type": "code",
   "execution_count": 16,
   "id": "d5faad64-32fc-4b4e-9048-847caee7d62f",
   "metadata": {},
   "outputs": [
    {
     "name": "stdout",
     "output_type": "stream",
     "text": [
      "seating capacity of ford is 6\n"
     ]
    }
   ],
   "source": [
    "class car(vehicle):\n",
    "    def __init__(self,name_of_vehicle,max_speed,average_of_vehicle):\n",
    "        super().__init__(name_of_vehicle,max_speed,average_of_vehicle)\n",
    "    def seating_capacity(self,amnt):\n",
    "         print(f\"seating capacity of {self.name} is {amnt}\")\n",
    "ford = car(\"ford\",300,100)\n",
    "ford.seating_capacity(6)\n",
    "        "
   ]
  },
  {
   "cell_type": "code",
   "execution_count": 26,
   "id": "fb974f27-41fe-4ff8-8972-9c1a536bbfaf",
   "metadata": {
    "tags": []
   },
   "outputs": [
    {
     "name": "stdout",
     "output_type": "stream",
     "text": [
      "andi has lithium ion battery\n"
     ]
    }
   ],
   "source": [
    "#multiple inheritane means the inhetane of properties by a class from more than single class\n",
    "class vehicle:\n",
    "    def __init__(self,name):\n",
    "        self.name= name\n",
    "class electricvehicle:\n",
    "    def __init__(self,battery):\n",
    "        self.battery = battery\n",
    "class ola(vehicle,electricvehicle):\n",
    "    def __init__(self,name,battery):\n",
    "        vehicle.__init__(self,name)\n",
    "        electricvehicle.__init__(self,battery)\n",
    "    def report(self):\n",
    "        print(f\"{self.name} has {self.battery} battery\")\n",
    "andi = ola(\"andi\",\"lithium ion\")\n",
    "andi.report()"
   ]
  },
  {
   "cell_type": "code",
   "execution_count": 27,
   "id": "35789e47-fd64-486a-956f-92b0df44a474",
   "metadata": {},
   "outputs": [],
   "source": [
    "class BankAccount:\n",
    "    def __init__(self,account_number,account_holder):\n",
    "        self.acno = account_number\n",
    "        self.ac_hldr = account_holder\n",
    "        self._balance =0\n",
    "    def deposit(self,amount):\n",
    "        self._balance += amount\n",
    "        return self._balance\n",
    "    def withdraw(self,amnt):\n",
    "        if amnt > self._balance:\n",
    "            print(\"insufficient balance\")\n",
    "        else:\n",
    "            self._balance -= amnt\n",
    "            return self._balance\n",
    "    def get_balance(self):\n",
    "        return self.balance\n",
    "#getters and setters are used to access the private artibutes as they are not accessable to users as they are privated\n",
    "#here the get_balane is a getter whih tells us the balance\n",
    "        \n",
    "        "
   ]
  },
  {
   "cell_type": "code",
   "execution_count": 30,
   "id": "c2c219dd-a5da-4f2d-b70b-bc5929923161",
   "metadata": {},
   "outputs": [
    {
     "name": "stdout",
     "output_type": "stream",
     "text": [
      "Generic animal sound\n",
      "Woof! Woof!\n"
     ]
    }
   ],
   "source": [
    "'''Method overriding in Python is a concept in object-oriented programming where a subclass provides a specific implementation \n",
    "for a method that is already defined in its parent class.When a subclass defines a method with the same name as a method \n",
    "in its superclass, the subclass's method will override the behavior of the superclass's method.'''\n",
    "class Animal:\n",
    "    def make_sound(self):\n",
    "        print(\"Generic animal sound\")\n",
    "\n",
    "class Dog(Animal):\n",
    "    def make_sound(self):\n",
    "        print(\"Woof! Woof!\")\n",
    "\n",
    "\n",
    "animal = Animal()\n",
    "dog = Dog()\n",
    "\n",
    "\n",
    "animal.make_sound()  \n",
    "dog.make_sound()\n",
    "#here we get woof! as the method name is same in subclass which override the animal class method"
   ]
  },
  {
   "cell_type": "code",
   "execution_count": null,
   "id": "2b30f3cf-f2ce-4550-8bdf-b63d4d86d6ed",
   "metadata": {},
   "outputs": [],
   "source": []
  }
 ],
 "metadata": {
  "kernelspec": {
   "display_name": "Python 3 (ipykernel)",
   "language": "python",
   "name": "python3"
  },
  "language_info": {
   "codemirror_mode": {
    "name": "ipython",
    "version": 3
   },
   "file_extension": ".py",
   "mimetype": "text/x-python",
   "name": "python",
   "nbconvert_exporter": "python",
   "pygments_lexer": "ipython3",
   "version": "3.10.8"
  }
 },
 "nbformat": 4,
 "nbformat_minor": 5
}
