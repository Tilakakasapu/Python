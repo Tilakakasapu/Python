{
 "cells": [
  {
   "cell_type": "code",
   "execution_count": 1,
   "id": "17e33772-8057-4fd2-9d32-07179060575e",
   "metadata": {},
   "outputs": [],
   "source": [
    "import pandas as pd"
   ]
  },
  {
   "cell_type": "code",
   "execution_count": 3,
   "id": "236b9f5b-d00e-481e-8ab9-2c542612638b",
   "metadata": {},
   "outputs": [
    {
     "name": "stdout",
     "output_type": "stream",
     "text": [
      "Requirement already satisfied: pandas in /opt/conda/lib/python3.10/site-packages (1.5.2)\n",
      "Requirement already satisfied: python-dateutil>=2.8.1 in /opt/conda/lib/python3.10/site-packages (from pandas) (2.8.2)\n",
      "Requirement already satisfied: pytz>=2020.1 in /opt/conda/lib/python3.10/site-packages (from pandas) (2022.6)\n",
      "Requirement already satisfied: numpy>=1.21.0 in /opt/conda/lib/python3.10/site-packages (from pandas) (1.23.5)\n",
      "Requirement already satisfied: six>=1.5 in /opt/conda/lib/python3.10/site-packages (from python-dateutil>=2.8.1->pandas) (1.16.0)\n",
      "Note: you may need to restart the kernel to use updated packages.\n"
     ]
    }
   ],
   "source": [
    "pip install pandas"
   ]
  },
  {
   "cell_type": "code",
   "execution_count": 2,
   "id": "6695def1-79cf-4367-84b3-18cfe3c40dfa",
   "metadata": {},
   "outputs": [
    {
     "data": {
      "text/plain": [
       "0     4\n",
       "1     8\n",
       "2    15\n",
       "3    16\n",
       "4    23\n",
       "5    42\n",
       "dtype: int64"
      ]
     },
     "execution_count": 2,
     "metadata": {},
     "output_type": "execute_result"
    }
   ],
   "source": [
    "data = [4,8,15,16,23,42]\n",
    "series = pd.Series(data)\n",
    "series"
   ]
  },
  {
   "cell_type": "code",
   "execution_count": null,
   "id": "3d3453f2-9e68-4485-a3af-6ba9267ecb1f",
   "metadata": {},
   "outputs": [],
   "source": [
    "li = [1,2,3,4,5,6,7,8,9,0]\n",
    "series = pd.Series(li)\n",
    "series"
   ]
  },
  {
   "cell_type": "code",
   "execution_count": 5,
   "id": "dc34c4ce-18ad-4436-8c1e-84c66a7a56aa",
   "metadata": {},
   "outputs": [
    {
     "data": {
      "text/html": [
       "<div>\n",
       "<style scoped>\n",
       "    .dataframe tbody tr th:only-of-type {\n",
       "        vertical-align: middle;\n",
       "    }\n",
       "\n",
       "    .dataframe tbody tr th {\n",
       "        vertical-align: top;\n",
       "    }\n",
       "\n",
       "    .dataframe thead th {\n",
       "        text-align: right;\n",
       "    }\n",
       "</style>\n",
       "<table border=\"1\" class=\"dataframe\">\n",
       "  <thead>\n",
       "    <tr style=\"text-align: right;\">\n",
       "      <th></th>\n",
       "      <th>Name</th>\n",
       "      <th>Age</th>\n",
       "      <th>Gender</th>\n",
       "    </tr>\n",
       "  </thead>\n",
       "  <tbody>\n",
       "    <tr>\n",
       "      <th>0</th>\n",
       "      <td>Alice</td>\n",
       "      <td>25</td>\n",
       "      <td>Female</td>\n",
       "    </tr>\n",
       "    <tr>\n",
       "      <th>1</th>\n",
       "      <td>Bob</td>\n",
       "      <td>30</td>\n",
       "      <td>Male</td>\n",
       "    </tr>\n",
       "    <tr>\n",
       "      <th>2</th>\n",
       "      <td>charlie</td>\n",
       "      <td>27</td>\n",
       "      <td>Female</td>\n",
       "    </tr>\n",
       "  </tbody>\n",
       "</table>\n",
       "</div>"
      ],
      "text/plain": [
       "      Name Age  Gender\n",
       "0    Alice  25  Female\n",
       "1      Bob  30    Male\n",
       "2  charlie  27  Female"
      ]
     },
     "execution_count": 5,
     "metadata": {},
     "output_type": "execute_result"
    }
   ],
   "source": [
    "data = {'Name':['Alice','Bob','charlie'],\n",
    "        'Age':['25','30','27'],\n",
    "        'Gender':['Female','Male','Female']\n",
    "       }\n",
    "dff = pd.DataFrame(data)\n",
    "dff"
   ]
  },
  {
   "cell_type": "code",
   "execution_count": 7,
   "id": "6fe2fe8d-c417-445b-b098-beb99e11bc32",
   "metadata": {},
   "outputs": [
    {
     "data": {
      "text/plain": [
       "pandas.core.series.Series"
      ]
     },
     "execution_count": 7,
     "metadata": {},
     "output_type": "execute_result"
    }
   ],
   "source": [
    "#data frame is a twodimentional data structure that contians rows and columns\n",
    "#series is like a list but it conttains indexes\n",
    "data = {'Name':['Alice','Bob','charlie'],\n",
    "        'Age':['25','30','27'],\n",
    "        'Gender':['Female','Male','Female']\n",
    "       }\n",
    "dff = pd.DataFrame(data)\n",
    "#here dff is a dataframe\n",
    "#but the dff['name'] is a series which gives a list of names with indexes\n",
    "type(dff['Name'])"
   ]
  },
  {
   "cell_type": "code",
   "execution_count": null,
   "id": "57f52565-7711-41f0-8c5b-60ddac3876fa",
   "metadata": {},
   "outputs": [],
   "source": [
    "#some commen functioms in pandas are\n",
    "import pandas  as pd\n",
    "#we can read a csv or a excel or any other file using pandas\n",
    "df=pd.read_csv(filename)\n",
    "#we can get columns in the data frame by this\n",
    "df.columns\n",
    "#we can filer the data accordidng to a specific condition\n",
    "df[df['age']>20]\n",
    "#you can add a neew column\n",
    "df['new'] = 1"
   ]
  },
  {
   "cell_type": "code",
   "execution_count": null,
   "id": "c1780bd1-8fb2-4cfb-8b98-2237ddbb9619",
   "metadata": {},
   "outputs": [],
   "source": [
    "#Series and DataFrame are mutable in nature and panel is not mutable in nature"
   ]
  },
  {
   "cell_type": "code",
   "execution_count": 14,
   "id": "d742827a-0da1-4ad7-ad28-8c88502bba76",
   "metadata": {},
   "outputs": [
    {
     "data": {
      "text/html": [
       "<div>\n",
       "<style scoped>\n",
       "    .dataframe tbody tr th:only-of-type {\n",
       "        vertical-align: middle;\n",
       "    }\n",
       "\n",
       "    .dataframe tbody tr th {\n",
       "        vertical-align: top;\n",
       "    }\n",
       "\n",
       "    .dataframe thead th {\n",
       "        text-align: right;\n",
       "    }\n",
       "</style>\n",
       "<table border=\"1\" class=\"dataframe\">\n",
       "  <thead>\n",
       "    <tr style=\"text-align: right;\">\n",
       "      <th></th>\n",
       "      <th>col1</th>\n",
       "      <th>col2</th>\n",
       "      <th>col3</th>\n",
       "    </tr>\n",
       "  </thead>\n",
       "  <tbody>\n",
       "    <tr>\n",
       "      <th>0</th>\n",
       "      <td>2</td>\n",
       "      <td>3</td>\n",
       "      <td>4</td>\n",
       "    </tr>\n",
       "    <tr>\n",
       "      <th>1</th>\n",
       "      <td>8</td>\n",
       "      <td>8</td>\n",
       "      <td>8</td>\n",
       "    </tr>\n",
       "    <tr>\n",
       "      <th>2</th>\n",
       "      <td>15</td>\n",
       "      <td>15</td>\n",
       "      <td>15</td>\n",
       "    </tr>\n",
       "    <tr>\n",
       "      <th>3</th>\n",
       "      <td>16</td>\n",
       "      <td>16</td>\n",
       "      <td>16</td>\n",
       "    </tr>\n",
       "    <tr>\n",
       "      <th>4</th>\n",
       "      <td>23</td>\n",
       "      <td>23</td>\n",
       "      <td>23</td>\n",
       "    </tr>\n",
       "    <tr>\n",
       "      <th>5</th>\n",
       "      <td>42</td>\n",
       "      <td>42</td>\n",
       "      <td>42</td>\n",
       "    </tr>\n",
       "  </tbody>\n",
       "</table>\n",
       "</div>"
      ],
      "text/plain": [
       "  col1 col2 col3\n",
       "0    2    3    4\n",
       "1    8    8    8\n",
       "2   15   15   15\n",
       "3   16   16   16\n",
       "4   23   23   23\n",
       "5   42   42   42"
      ]
     },
     "execution_count": 14,
     "metadata": {},
     "output_type": "execute_result"
    }
   ],
   "source": [
    "data = ['2',8,15,16,23,42]\n",
    "series = pd.Series(data)\n",
    "data1 = ['3',8,15,16,23,42]\n",
    "series1 = pd.Series(data1)\n",
    "data2 = ['4',8,15,16,23,42]\n",
    "series2 = pd.Series(data2)\n",
    "d = {'col1':series,'col2':series1,'col3':series2}\n",
    "dd = pd.DataFrame(d)\n",
    "dd"
   ]
  },
  {
   "cell_type": "code",
   "execution_count": null,
   "id": "500c6051-6ea6-4dfd-88cc-898625fb14ec",
   "metadata": {},
   "outputs": [],
   "source": []
  }
 ],
 "metadata": {
  "kernelspec": {
   "display_name": "Python 3 (ipykernel)",
   "language": "python",
   "name": "python3"
  },
  "language_info": {
   "codemirror_mode": {
    "name": "ipython",
    "version": 3
   },
   "file_extension": ".py",
   "mimetype": "text/x-python",
   "name": "python",
   "nbconvert_exporter": "python",
   "pygments_lexer": "ipython3",
   "version": "3.10.8"
  }
 },
 "nbformat": 4,
 "nbformat_minor": 5
}
