{
 "cells": [
  {
   "cell_type": "code",
   "execution_count": 1,
   "id": "98f21487-4df9-421a-aa01-9b7ac6e515d7",
   "metadata": {},
   "outputs": [
    {
     "data": {
      "text/plain": [
       "tuple"
      ]
     },
     "execution_count": 1,
     "metadata": {},
     "output_type": "execute_result"
    }
   ],
   "source": [
    "#Q1\n",
    "tilak = \"hello everyone\"\n",
    "li = [\"list\",12,True,43.655]\n",
    "marks = 23.453\n",
    "tup = (\"hello\",12,False)\n",
    "type(tilak)\n",
    "type(li)\n",
    "type(marks)\n",
    "type(tup)"
   ]
  },
  {
   "cell_type": "code",
   "execution_count": 2,
   "id": "1e6b7260-f3a5-40a7-b205-9925f82344ad",
   "metadata": {},
   "outputs": [
    {
     "data": {
      "text/plain": [
       "str"
      ]
     },
     "execution_count": 2,
     "metadata": {},
     "output_type": "execute_result"
    }
   ],
   "source": [
    "#Q2\n",
    "var1 = '' #type is String\n",
    "var2 = '[DS,ML,PYTHON]'#type is String\n",
    "var3 = ['DS','ML','PYTHON']#type is List\n",
    "var4 = 1 #type is Int"
   ]
  },
  {
   "cell_type": "code",
   "execution_count": null,
   "id": "23b63a2c-cd70-4345-b615-485275250324",
   "metadata": {},
   "outputs": [],
   "source": [
    "#Q3\n",
    "10/2 #this is a arthametic operator that does divison it divides 10 with 2 and gives answer 5\n",
    "5%2 #this is a modulus operator it gives output the remainder of the divison that occurs here 2 divides 4 and remainder 1 is returned\n",
    "5//2 #this is also a divison operator that returns value in integer data type\n",
    "2**2#this is a exponential operator it is used here as a power that is here 2 is raised to power 2 and it returns 4 as output\n"
   ]
  },
  {
   "cell_type": "code",
   "execution_count": 4,
   "id": "2b1d4cbd-9204-48ea-ba9d-2f52371810c6",
   "metadata": {},
   "outputs": [
    {
     "name": "stdout",
     "output_type": "stream",
     "text": [
      "10\n",
      "HII <class 'str'>\n",
      "123 <class 'int'>\n",
      "12.43 <class 'float'>\n",
      "True <class 'bool'>\n",
      "[1, 2, 3] <class 'list'>\n",
      "(23.34, 12, 'hello') <class 'tuple'>\n",
      "False <class 'bool'>\n",
      "1 <class 'int'>\n",
      "tilak <class 'str'>\n",
      "True <class 'bool'>\n"
     ]
    }
   ],
   "source": [
    "list_1 = ['HII',123,12.43,True,[1,2,3],(23.34,12,\"hello\"),False,1,\"tilak\",True]\n",
    "print(len(list_1))\n",
    "for i in list_1:\n",
    "    print(i,end=\" \")\n",
    "    print(type(i))"
   ]
  },
  {
   "cell_type": "code",
   "execution_count": 2,
   "id": "cb538e0a-f675-44a8-b224-f161d41cff53",
   "metadata": {},
   "outputs": [
    {
     "name": "stdout",
     "output_type": "stream",
     "text": [
      "it is divisible\n",
      "it can be divided purely 1 time\n"
     ]
    }
   ],
   "source": [
    "num_1 = 24\n",
    "num_2 = 12\n",
    "count = 0\n",
    "while (True):\n",
    "    if num_1%num_2==0:\n",
    "        count += 1\n",
    "        num_1 = num_1/num_2\n",
    "        print(\"it is divisible\")\n",
    "    else:\n",
    "        break\n",
    "print(f\"it can be divided purely {count} time\")  "
   ]
  },
  {
   "cell_type": "code",
   "execution_count": 3,
   "id": "f9c6e221-1042-43a1-baa4-4b8f27b57a69",
   "metadata": {},
   "outputs": [
    {
     "name": "stdout",
     "output_type": "stream",
     "text": [
      "1\n",
      "it is not divisible by three\n",
      "2\n",
      "it is not divisible by three\n",
      "3\n",
      "it is not divisible by three\n",
      "4\n",
      "it is not divisible by three\n",
      "5\n",
      "it is not divisible by three\n",
      "6\n",
      "it is not divisible by three\n",
      "7\n",
      "it is not divisible by three\n",
      "8\n",
      "it is not divisible by three\n",
      "9\n",
      "it is not divisible by three\n",
      "10\n",
      "it is not divisible by three\n",
      "11\n",
      "it is not divisible by three\n",
      "12\n",
      "it is not divisible by three\n",
      "13\n",
      "it is not divisible by three\n",
      "14\n",
      "it is not divisible by three\n",
      "15\n",
      "it is not divisible by three\n",
      "16\n",
      "it is not divisible by three\n",
      "27\n",
      "it is not divisible by three\n",
      "18\n",
      "it is not divisible by three\n",
      "19\n",
      "it is not divisible by three\n",
      "20\n",
      "it is not divisible by three\n",
      "21\n",
      "it is not divisible by three\n",
      "23\n",
      "it is not divisible by three\n",
      "22\n",
      "it is not divisible by three\n",
      "24\n",
      "it is not divisible by three\n",
      "25\n",
      "it is not divisible by three\n"
     ]
    }
   ],
   "source": [
    "my_list=[1,2,3,4,5,6,7,8,9,10,11,12,13,14,15,16,27,18,19,20,21,23,22,24,25]\n",
    "for i in my_list:\n",
    "    print(i)\n",
    "    if 1%3==0:\n",
    "        print(\"it is divisible by 3\")\n",
    "    else:\n",
    "        print(\"it is not divisible by three\")"
   ]
  },
  {
   "cell_type": "code",
   "execution_count": 4,
   "id": "84871961-0632-41d1-b40c-598e0be93fd9",
   "metadata": {},
   "outputs": [
    {
     "name": "stdout",
     "output_type": "stream",
     "text": [
      "[1, 2, 4]\n"
     ]
    },
    {
     "ename": "TypeError",
     "evalue": "'tuple' object does not support item assignment",
     "output_type": "error",
     "traceback": [
      "\u001b[0;31m---------------------------------------------------------------------------\u001b[0m",
      "\u001b[0;31mTypeError\u001b[0m                                 Traceback (most recent call last)",
      "Cell \u001b[0;32mIn[4], line 7\u001b[0m\n\u001b[1;32m      5\u001b[0m \u001b[38;5;28mprint\u001b[39m(list_1)\n\u001b[1;32m      6\u001b[0m tuple_1\u001b[38;5;241m=\u001b[39m(\u001b[38;5;241m1\u001b[39m,\u001b[38;5;241m2\u001b[39m,\u001b[38;5;241m3\u001b[39m)\n\u001b[0;32m----> 7\u001b[0m \u001b[43mtuple_1\u001b[49m\u001b[43m[\u001b[49m\u001b[38;5;241;43m2\u001b[39;49m\u001b[43m]\u001b[49m\u001b[38;5;241m=\u001b[39m\u001b[38;5;241m4\u001b[39m\n\u001b[1;32m      8\u001b[0m \u001b[38;5;28mprint\u001b[39m(tuple_1)\n",
      "\u001b[0;31mTypeError\u001b[0m: 'tuple' object does not support item assignment"
     ]
    }
   ],
   "source": [
    "#mutable data type means the data can be changed ex:list\n",
    "#immutable data type means the data cannot be changed ex:tuple\n",
    "list_1=[1,2,3]\n",
    "list_1[2]=4\n",
    "print(list_1)\n",
    "tuple_1=(1,2,3)\n",
    "tuple_1[2]=4\n",
    "print(tuple_1)"
   ]
  },
  {
   "cell_type": "code",
   "execution_count": null,
   "id": "110193cd-702f-4e38-a1f0-b8c71bead7af",
   "metadata": {},
   "outputs": [],
   "source": []
  }
 ],
 "metadata": {
  "kernelspec": {
   "display_name": "Python 3 (ipykernel)",
   "language": "python",
   "name": "python3"
  },
  "language_info": {
   "codemirror_mode": {
    "name": "ipython",
    "version": 3
   },
   "file_extension": ".py",
   "mimetype": "text/x-python",
   "name": "python",
   "nbconvert_exporter": "python",
   "pygments_lexer": "ipython3",
   "version": "3.10.8"
  }
 },
 "nbformat": 4,
 "nbformat_minor": 5
}
