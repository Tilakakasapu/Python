{
 "cells": [
  {
   "cell_type": "code",
   "execution_count": 8,
   "id": "0c5d61ae-510e-47e1-8e80-3710d56b4d44",
   "metadata": {},
   "outputs": [
    {
     "name": "stdout",
     "output_type": "stream",
     "text": [
      "<class 'list'>\n"
     ]
    },
    {
     "data": {
      "text/plain": [
       "numpy.ndarray"
      ]
     },
     "execution_count": 8,
     "metadata": {},
     "output_type": "execute_result"
    }
   ],
   "source": [
    "import numpy as np\n",
    "list_ = ['1','2','3','4','5','6']\n",
    "array_list = np.array(object = list_)\n",
    "#yes there is difference between data type of list and arrat_list array list is ndarray\n",
    "print(type(list_))\n",
    "type(array_list)\n"
   ]
  },
  {
   "cell_type": "code",
   "execution_count": 12,
   "id": "a2fafd3b-b7ff-47be-a718-a89683dbfec3",
   "metadata": {},
   "outputs": [
    {
     "name": "stdout",
     "output_type": "stream",
     "text": [
      "<class 'str'>\n",
      "<class 'str'>\n",
      "<class 'str'>\n",
      "<class 'str'>\n",
      "<class 'str'>\n",
      "<class 'str'>\n",
      "<class 'numpy.str_'>\n",
      "<class 'numpy.str_'>\n",
      "<class 'numpy.str_'>\n",
      "<class 'numpy.str_'>\n",
      "<class 'numpy.str_'>\n",
      "<class 'numpy.str_'>\n"
     ]
    },
    {
     "data": {
      "text/plain": [
       "dtype('<U1')"
      ]
     },
     "execution_count": 12,
     "metadata": {},
     "output_type": "execute_result"
    }
   ],
   "source": [
    "for i in list_:\n",
    "    print(type(i))#here the data type of elements is strings\n",
    "for i in array_list:\n",
    "    print(type(i))#here the data type of elements is numpy.strings\n",
    "array_list.dtype  #iit represents the unicode character of length 1"
   ]
  },
  {
   "cell_type": "code",
   "execution_count": 18,
   "id": "eb130b81-ce59-4815-9287-4dc69b2d267a",
   "metadata": {},
   "outputs": [
    {
     "name": "stdout",
     "output_type": "stream",
     "text": [
      "<class 'str'>\n",
      "<class 'str'>\n",
      "<class 'str'>\n",
      "<class 'str'>\n",
      "<class 'str'>\n",
      "<class 'str'>\n",
      "<class 'numpy.int64'>\n",
      "<class 'numpy.int64'>\n",
      "<class 'numpy.int64'>\n",
      "<class 'numpy.int64'>\n",
      "<class 'numpy.int64'>\n",
      "<class 'numpy.int64'>\n"
     ]
    },
    {
     "data": {
      "text/plain": [
       "dtype('int64')"
      ]
     },
     "execution_count": 18,
     "metadata": {},
     "output_type": "execute_result"
    }
   ],
   "source": [
    "array_list = np.array(object = list_, dtype = int)\n",
    "#yes there will be difference between the data types of the elements in both of them\n",
    "#as we passed dtype as integer the dtype of elements are changed from numpy str to integer\n",
    "for i in list_:\n",
    "    print(type(i))#here the data type of elements is strings\n",
    "for i in array_list:\n",
    "    print(type(i))#here the data type of elements is numpy.integer\n",
    "array_list.dtype  #iit represents the unicode character of length 1"
   ]
  },
  {
   "cell_type": "code",
   "execution_count": 23,
   "id": "a858ed0c-99f9-4060-a8bf-fb98cc0fcd31",
   "metadata": {},
   "outputs": [
    {
     "name": "stdout",
     "output_type": "stream",
     "text": [
      "(2, 3)\n",
      "6\n"
     ]
    }
   ],
   "source": [
    "num_list = [ [ 1 , 2 , 3 ] , [ 4 , 5 , 6 ] ]\n",
    "num_array = np.array(object = num_list)\n",
    "print(num_array.shape)#2rows and 3 columns\n",
    "print(num_array.size)#contains 6 elements\n"
   ]
  },
  {
   "cell_type": "code",
   "execution_count": 36,
   "id": "bd9d98de-d2a5-47ba-a96e-3be40f26a15f",
   "metadata": {},
   "outputs": [
    {
     "name": "stdout",
     "output_type": "stream",
     "text": [
      "(3, 3) 9\n"
     ]
    },
    {
     "data": {
      "text/plain": [
       "array([[0., 0., 0.],\n",
       "       [0., 0., 0.],\n",
       "       [0., 0., 0.]])"
      ]
     },
     "execution_count": 36,
     "metadata": {},
     "output_type": "execute_result"
    }
   ],
   "source": [
    "arr = np.zeros([3,3])\n",
    "print(arr.shape,arr.size)\n",
    "arr"
   ]
  },
  {
   "cell_type": "code",
   "execution_count": 54,
   "id": "b3a42344-81e8-4542-a9aa-8ed16cacc287",
   "metadata": {},
   "outputs": [
    {
     "data": {
      "text/plain": [
       "array([[1., 0., 0., 0., 0.],\n",
       "       [0., 1., 0., 0., 0.],\n",
       "       [0., 0., 1., 0., 0.],\n",
       "       [0., 0., 0., 1., 0.],\n",
       "       [0., 0., 0., 0., 1.]])"
      ]
     },
     "execution_count": 54,
     "metadata": {},
     "output_type": "execute_result"
    }
   ],
   "source": [
    "arr1 =np.eye(5)\n",
    "arr1"
   ]
  },
  {
   "cell_type": "code",
   "execution_count": null,
   "id": "8b8bae38-10e5-41ba-bf6a-94ef691112ab",
   "metadata": {},
   "outputs": [],
   "source": []
  }
 ],
 "metadata": {
  "kernelspec": {
   "display_name": "Python 3 (ipykernel)",
   "language": "python",
   "name": "python3"
  },
  "language_info": {
   "codemirror_mode": {
    "name": "ipython",
    "version": 3
   },
   "file_extension": ".py",
   "mimetype": "text/x-python",
   "name": "python",
   "nbconvert_exporter": "python",
   "pygments_lexer": "ipython3",
   "version": "3.10.8"
  }
 },
 "nbformat": 4,
 "nbformat_minor": 5
}
