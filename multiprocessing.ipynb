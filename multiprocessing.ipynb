{
 "cells": [
  {
   "cell_type": "code",
   "execution_count": 1,
   "id": "dea73efd-665f-4482-9ac5-2a1507ebfa73",
   "metadata": {},
   "outputs": [],
   "source": [
    "#multiprocess is the process of running multiple processes simultaneously in a single thread\n",
    "#it is useful in increasing the performance of the program by making best use of cpu cores\n"
   ]
  },
  {
   "cell_type": "code",
   "execution_count": 2,
   "id": "8eb3d04e-f900-4270-8786-20de464b02b8",
   "metadata": {},
   "outputs": [],
   "source": [
    "#multiprocessing and multi threading looks similar but multiprocessing is the process of running multiple processes in a single thread simultaneously while multi threading is the process of running multiple threads simultaneously in a single process "
   ]
  },
  {
   "cell_type": "code",
   "execution_count": 3,
   "id": "67bfd75d-570b-4189-bc64-5f4454ee1b62",
   "metadata": {},
   "outputs": [
    {
     "name": "stdout",
     "output_type": "stream",
     "text": [
      "[1, 4, 9, 16, 25, 36, 49, 64]\n"
     ]
    }
   ],
   "source": [
    "import multiprocessing\n",
    "def square(n):\n",
    "    return n*n \n",
    "if __name__ == \"__main__\":\n",
    "    with multiprocessing.Pool(processes=4) as pool:\n",
    "        out = pool.map(square , [1,2,3,4,5,6,7,8])\n",
    "        print(out)\n",
    "    "
   ]
  },
  {
   "cell_type": "code",
   "execution_count": 4,
   "id": "f38d90d9-7602-417f-bb9c-280b254a36ed",
   "metadata": {},
   "outputs": [],
   "source": [
    "#multiprocessing.pool is a class that provides a convinient way to perform multiple tasks by creating multiple worker processes by making the best use of cpu cores\n",
    "#it is mainy used for parallel processing , ease of use , avoid GIL"
   ]
  },
  {
   "cell_type": "code",
   "execution_count": 6,
   "id": "168fa718-beee-45c6-aa28-cdc30d09b119",
   "metadata": {},
   "outputs": [
    {
     "name": "stdout",
     "output_type": "stream",
     "text": [
      "[2, 4, 6, 8, 10, 12, 14]\n"
     ]
    }
   ],
   "source": [
    "import multiprocessing\n",
    "def num(n):\n",
    "    return n*2\n",
    "if __name__ == '__main__':\n",
    "    data =[1,2,3,4,5,6,7]\n",
    "    with multiprocessing.Pool(processes =4) as pool:\n",
    "        out = pool.map(num,data)\n",
    "        print(out)\n",
    "#this is an example of creating a pool of worker processes \n"
   ]
  },
  {
   "cell_type": "code",
   "execution_count": 8,
   "id": "76e10d42-afb8-40b0-a0f0-fb63745e2c50",
   "metadata": {},
   "outputs": [
    {
     "name": "stdout",
     "output_type": "stream",
     "text": [
      "process 1:printing 1\n",
      "process 2:printing 2\n",
      "process 3:printing 3\n",
      "process 4:printing 4\n",
      "all processes are commpleted\n"
     ]
    }
   ],
   "source": [
    "import multiprocessing\n",
    "def print_num(n):\n",
    "    print(f'process {n}:printing {n}')\n",
    "if __name__ == '__main__':\n",
    "    processes = []\n",
    "    for i in range(1,5):\n",
    "        process = multiprocessing.Process(target=print_num,args=(i,))\n",
    "        processes.append(process)\n",
    "        process.start()\n",
    "    for i in processes:\n",
    "        i.join()\n",
    "    print(\"all processes are commpleted\")"
   ]
  },
  {
   "cell_type": "code",
   "execution_count": null,
   "id": "7c3072b2-c1ad-47e0-afd3-c04e620d2afb",
   "metadata": {},
   "outputs": [],
   "source": []
  }
 ],
 "metadata": {
  "kernelspec": {
   "display_name": "Python 3 (ipykernel)",
   "language": "python",
   "name": "python3"
  },
  "language_info": {
   "codemirror_mode": {
    "name": "ipython",
    "version": 3
   },
   "file_extension": ".py",
   "mimetype": "text/x-python",
   "name": "python",
   "nbconvert_exporter": "python",
   "pygments_lexer": "ipython3",
   "version": "3.10.8"
  }
 },
 "nbformat": 4,
 "nbformat_minor": 5
}
