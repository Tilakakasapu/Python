{
 "cells": [
  {
   "cell_type": "code",
   "execution_count": 8,
   "id": "333e6007-6471-4b7b-841b-3d963a7da257",
   "metadata": {},
   "outputs": [
    {
     "name": "stdout",
     "output_type": "stream",
     "text": [
      "[('Ricky Poting', 2354), ('virat', 12312), ('jack', 34543), ('sachin tendulkar', 345234)]\n"
     ]
    }
   ],
   "source": [
    "tple = [(\"sachin tendulkar\", 345234),(\"Ricky Poting\" , 2354),(\"jack\" , 34543),(\"virat\",12312)]\n",
    "sorted_tuple = sorted(tple, key = lambda x:x[1])\n",
    "print(sorted_tuple)\n"
   ]
  },
  {
   "cell_type": "code",
   "execution_count": 12,
   "id": "5664422a-5e3a-4c73-b40a-dc41830f7ae8",
   "metadata": {},
   "outputs": [
    {
     "name": "stdout",
     "output_type": "stream",
     "text": [
      "[1, 4, 9, 16, 25, 36, 49, 64, 81, 100]\n"
     ]
    }
   ],
   "source": [
    "list_1 = [1,2,3,4,5,6,7,8,9,10]\n",
    "li = list(map(lambda x:x**2 , list_1))\n",
    "print(li)"
   ]
  },
  {
   "cell_type": "code",
   "execution_count": 14,
   "id": "54e12a41-098f-4ca9-b7e9-685f00cffb06",
   "metadata": {},
   "outputs": [
    {
     "name": "stdout",
     "output_type": "stream",
     "text": [
      "('1', '2', '3', '4', '5', '6', '7', '8', '9', '10')\n"
     ]
    }
   ],
   "source": [
    "list_2 = [1,2,3,4,5,6,7,8,9,10]\n",
    "li2 = tuple(map(lambda x:str(x),list_2))\n",
    "print(li2)"
   ]
  },
  {
   "cell_type": "code",
   "execution_count": 17,
   "id": "5c650fb5-bef9-45ff-a846-e7490f63975e",
   "metadata": {},
   "outputs": [
    {
     "name": "stdout",
     "output_type": "stream",
     "text": [
      "15511210043330985984000000\n"
     ]
    }
   ],
   "source": [
    "from functools import reduce\n",
    "list_3 = [x for x in range(1,26)]\n",
    "\n",
    "pro_list = reduce(lambda x,y:x*y,list_3)\n",
    "print(pro_list)"
   ]
  },
  {
   "cell_type": "code",
   "execution_count": 23,
   "id": "ddfa0e8d-8e55-4df8-8e4d-62a22ca4c617",
   "metadata": {},
   "outputs": [
    {
     "name": "stdout",
     "output_type": "stream",
     "text": [
      "[2, 6, 60, 90, 120, 46]\n",
      "[3, 9, 27, 55]\n"
     ]
    }
   ],
   "source": [
    "list_4 =[2,3,6,9,27,60,90,120,55,46]\n",
    "even_li = list(filter(lambda x: x % 2 == 0 , list_4))\n",
    "odd_li = list(filter(lambda x: x % 2 != 0 , list_4))\n",
    "print(even_li)\n",
    "print(odd_li)"
   ]
  },
  {
   "cell_type": "code",
   "execution_count": null,
   "id": "a89d5d34-dc9a-4e53-b723-a70a2fb27575",
   "metadata": {},
   "outputs": [],
   "source": [
    "list_5 = ['python' ,'php','aba','radar','level']\n",
    "li5 = list(filter(lambda x: x2 =x[::-1] if x==x2) )"
   ]
  }
 ],
 "metadata": {
  "kernelspec": {
   "display_name": "Python 3 (ipykernel)",
   "language": "python",
   "name": "python3"
  },
  "language_info": {
   "codemirror_mode": {
    "name": "ipython",
    "version": 3
   },
   "file_extension": ".py",
   "mimetype": "text/x-python",
   "name": "python",
   "nbconvert_exporter": "python",
   "pygments_lexer": "ipython3",
   "version": "3.10.8"
  }
 },
 "nbformat": 4,
 "nbformat_minor": 5
}
