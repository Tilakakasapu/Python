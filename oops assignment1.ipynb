{
 "cells": [
  {
   "cell_type": "code",
   "execution_count": 12,
   "id": "798ba802-17d1-4b15-a2cd-71d9667533b6",
   "metadata": {},
   "outputs": [
    {
     "name": "stdout",
     "output_type": "stream",
     "text": [
      "this is mahine learning class\n"
     ]
    }
   ],
   "source": [
    "#Classes are like blue prints and the objets are like some of the internal things in blue prints \n",
    "#like if you imagine a classroom as class and speific classrooms are objets\n",
    "class school:\n",
    "    def __init__(self,classroom,no_of_students):\n",
    "        self.classroom = classroom\n",
    "        self.no_of_students = no_of_students\n",
    "    def print(self):\n",
    "        print(\"this is mahine learning class\")\n",
    "chaitanya = school(\"gf\",10)\n",
    "chaitanya.print()\n",
    "#here class is a blue print\n",
    "#chaitanya is a objet"
   ]
  },
  {
   "cell_type": "code",
   "execution_count": 6,
   "id": "3a2db35b-add0-4013-86fc-114ee46fe6da",
   "metadata": {},
   "outputs": [],
   "source": [
    "#four pillars of objet oriented programming are encapsulation abstraction polymorphism inheritence\n"
   ]
  },
  {
   "cell_type": "code",
   "execution_count": 7,
   "id": "e627f83f-6654-4b91-964d-97b47c1f069f",
   "metadata": {},
   "outputs": [],
   "source": [
    "#the init is used to initialise class with some properties like if bike is a class then its modal name are its properties and init is used to initialise them\n",
    "class bike:\n",
    "    def __init__(self,modal,name):\n",
    "        self.modal = modal\n",
    "        self.name = name\n",
    "#here we initialise these properties to a objet when we are creating them\n",
    "        "
   ]
  },
  {
   "cell_type": "code",
   "execution_count": 13,
   "id": "e77d0dd8-9c68-43d7-a831-ba99ae449631",
   "metadata": {},
   "outputs": [
    {
     "name": "stdout",
     "output_type": "stream",
     "text": [
      "HX12\n"
     ]
    }
   ],
   "source": [
    "#self is a pointer to the  specific class \n",
    "class bike:\n",
    "    def __init__(self,modal):\n",
    "        self.modal = modal\n",
    "    def report(self):\n",
    "        print(self.modal)\n",
    "bmw = bike(\"HX12\")\n",
    "bmw.report()\n",
    "#here self is pointing to bmw objet and is is printing the repoen of the bmw objet so self is used\n",
    "        "
   ]
  },
  {
   "cell_type": "code",
   "execution_count": 11,
   "id": "adbb0aa3-5802-4921-9a3c-9c64016bd475",
   "metadata": {},
   "outputs": [
    {
     "name": "stdout",
     "output_type": "stream",
     "text": [
      "Woof!\n",
      "Meow!\n"
     ]
    }
   ],
   "source": [
    "#inheritacne is one of the main pillars of opps.a class inheriting the properties of a super class is called inheritane\n",
    "#different inheritanes are \n",
    "#single inheritane : single inheritane is a class interiting the properties of a super class\n",
    "#multi inheritane : multi inheritane is a class inheriting properties of multiple classes\n",
    "#multi level inheritance : multi level inheritance is inheriting properties from a class which is a inheriting properties fron another class\n",
    "\n",
    "class Animal:\n",
    "    def __init__(self, name):\n",
    "        self.name = name\n",
    "\n",
    "    def speak(self):\n",
    "        pass\n",
    "\n",
    "class Dog(Animal):\n",
    "    def speak(self):\n",
    "        return \"Woof!\"\n",
    "\n",
    "class Cat(Animal):\n",
    "    def speak(self):\n",
    "        return \"Meow!\"\n",
    "\n",
    "dog = Dog(\"Buddy\")\n",
    "cat = Cat(\"Whiskers\")\n",
    "\n",
    "print(dog.speak())  \n",
    "print(cat.speak())  \n"
   ]
  },
  {
   "cell_type": "code",
   "execution_count": null,
   "id": "08105624-1ae9-4467-8991-73855966047e",
   "metadata": {},
   "outputs": [],
   "source": []
  }
 ],
 "metadata": {
  "kernelspec": {
   "display_name": "Python 3 (ipykernel)",
   "language": "python",
   "name": "python3"
  },
  "language_info": {
   "codemirror_mode": {
    "name": "ipython",
    "version": 3
   },
   "file_extension": ".py",
   "mimetype": "text/x-python",
   "name": "python",
   "nbconvert_exporter": "python",
   "pygments_lexer": "ipython3",
   "version": "3.10.8"
  }
 },
 "nbformat": 4,
 "nbformat_minor": 5
}
