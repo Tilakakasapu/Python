{
  "nbformat": 4,
  "nbformat_minor": 0,
  "metadata": {
    "colab": {
      "provenance": []
    },
    "kernelspec": {
      "name": "python3",
      "display_name": "Python 3"
    },
    "language_info": {
      "name": "python"
    }
  },
  "cells": [
    {
      "cell_type": "code",
      "execution_count": 2,
      "metadata": {
        "id": "infy2AEgD9DC"
      },
      "outputs": [],
      "source": [
        "# TensorFlow, an open-source machine learning framework, primarily uses tensors as its fundamental data structure. Tensors are multi-dimensional arrays used to represent data.\n",
        "# Tensor:\n",
        "# Tensors are the primary data structure in TensorFlow, representing multi-dimensional arrays.\n",
        "# Variable:\n",
        "# TensorFlow Variables are used to store and update trainable parameters, such as weights and biases in a neural network.\n",
        "# SparseTensor:\n",
        "# TensorFlow supports sparse tensors for representing tensors with a large number of zero values efficiently."
      ]
    },
    {
      "cell_type": "code",
      "source": [
        "# # in TensorFlow, both constants and variables are used to represent and store data, but they have different purposes and characteristics.\n",
        "# # TensorFlow Constant:\n",
        "# # A TensorFlow constant is a type of tensor whose value cannot be changed once it is assigned. It is used to represent fixed values in a TensorFlow graph. Once you define a constant, its value remains the same throughout the execution of the program.\n",
        "# # TensorFlow Variable:\n",
        "# # A TensorFlow variable, on the other hand, is a type of tensor whose value can be changed during the execution of a program. Variables are typically used to store and update model parameters like weights and biases during training.\n",
        "# Constant: Immutable, its value cannot be changed after creation.\n",
        "# Variable: Mutable, its value can be changed during the execution of the program, making it suitable for parameters that need to be updated during training."
      ],
      "metadata": {
        "id": "nxfNR4dPEY4F"
      },
      "execution_count": 3,
      "outputs": []
    },
    {
      "cell_type": "code",
      "source": [
        "# Matrix Addition:\n",
        "# Matrix addition is a simple operation where corresponding elements of two matrices are added together to produce a new matrix with the same dimensions. In TensorFlow, you can use the tf.add function for matrix addition.\n",
        "import tensorflow as tf\n",
        "matrix_a = tf.constant([[1, 2], [3, 4]])\n",
        "matrix_b = tf.constant([[5, 6], [7, 8]])\n",
        "result_addition = tf.add(matrix_a, matrix_b)\n",
        "# Matrix Multiplication:\n",
        "# Matrix multiplication is a more complex operation where the dot product of rows and columns is computed to produce a new matrix.\n",
        "result_multiplication = tf.matmul(matrix_a, matrix_b)\n",
        "# Element-wise Operations:\n",
        "# Element-wise operations involve performing a specific operation on each corresponding element of two matrices or a single matrix. Common element-wise operations include addition, subtraction, multiplication, and division. TensorFlow supports these operations directly.\n",
        "result_elementwise_mul = tf.multiply(matrix_a, matrix_b)\n",
        "print(\"Element-wise Multiplication Result:\")\n",
        "print(result_elementwise_mul.numpy())\n",
        "print(\"Matrix Addition Result:\")\n",
        "print(result_addition.numpy())\n",
        "print(\"Matrix Multiplication Result:\")\n",
        "print(result_multiplication.numpy())"
      ],
      "metadata": {
        "colab": {
          "base_uri": "https://localhost:8080/"
        },
        "id": "P4lBD7msFCj4",
        "outputId": "3e5f6e45-b32d-48f7-81d9-77dd5d37540f"
      },
      "execution_count": 5,
      "outputs": [
        {
          "output_type": "stream",
          "name": "stdout",
          "text": [
            "Element-wise Multiplication Result:\n",
            "[[ 5 12]\n",
            " [21 32]]\n",
            "Matrix Addition Result:\n",
            "[[ 6  8]\n",
            " [10 12]]\n",
            "Matrix Multiplication Result:\n",
            "[[19 22]\n",
            " [43 50]]\n"
          ]
        }
      ]
    },
    {
      "cell_type": "code",
      "source": [
        "matrix_a = tf.cast(tf.random.normal(shape=(2, 2), mean=0, stddev=1), dtype=tf.float32)\n",
        "print(\"Matrix A:\")\n",
        "print(matrix_a.numpy())\n",
        "x = 2\n",
        "matrix_B = tf.random.truncated_normal(shape=(x, x), mean=0, stddev=1)\n",
        "print(\"\\nMatrix B:\")\n",
        "print(matrix_B.numpy())\n",
        "matrix_c = tf.random.normal(shape=(2, 2), mean=3, stddev=0.5)\n",
        "print(\"\\nMatrix C:\")\n",
        "print(matrix_c.numpy())\n",
        "matrix_d = matrix_a + matrix_B\n",
        "print(\"\\nMatrix D (Result of Addition):\")\n",
        "print(matrix_d.numpy())\n",
        "matrix_e = tf.matmul(matrix_c,matrix_d)\n",
        "print(matrix_e.numpy())"
      ],
      "metadata": {
        "colab": {
          "base_uri": "https://localhost:8080/"
        },
        "id": "xuOWdq1TFVIP",
        "outputId": "8024f3f1-62d6-4a8d-923a-4df9b1d5af50"
      },
      "execution_count": 21,
      "outputs": [
        {
          "output_type": "stream",
          "name": "stdout",
          "text": [
            "Matrix A:\n",
            "[[ 0.6217819  -0.35800076]\n",
            " [-0.8292485   1.0875517 ]]\n",
            "\n",
            "Matrix B:\n",
            "[[-0.4569535  -0.9830455 ]\n",
            " [-1.7080914  -0.86306626]]\n",
            "\n",
            "Matrix C:\n",
            "[[2.7113526 3.3097386]\n",
            " [3.507611  2.2790608]]\n",
            "\n",
            "Matrix D (Result of Addition):\n",
            "[[ 0.16482839 -1.3410463 ]\n",
            " [-2.53734     0.22448546]]\n",
            "[[-7.951024  -2.8930614]\n",
            " [-5.204598  -4.192253 ]]\n"
          ]
        }
      ]
    },
    {
      "cell_type": "code",
      "source": [
        "mat_f = tf.random.uniform(shape=(3, 3), minval=0, maxval=10)\n",
        "print(\"Matrix F:\")\n",
        "print(mat_f.numpy())\n",
        "\n",
        "# Transpose matrix F to create matrix G\n",
        "mat_g = tf.transpose(mat_f)\n",
        "print(\"\\nMatrix G (Transpose of Matrix F):\")\n",
        "print(mat_g.numpy())\n",
        "\n",
        "# Calculate the element-wise exponential of matrix F to create matrix H\n",
        "mat_h = tf.exp(mat_f)\n",
        "print(\"\\nMatrix H (Element-wise Exponential of Matrix F):\")\n",
        "print(mat_h.numpy())\n",
        "\n",
        "# Concatenate matrix F and its transpose along axis 1 to create matrix I\n",
        "mat_i = tf.concat(values=[mat_f, mat_g], axis=1)\n",
        "print(\"\\nMatrix I (Concatenation of Matrix F and its Transpose along Axis 1):\")\n",
        "print(mat_i.numpy())\n",
        "\n",
        "# Concatenate matrix F and its transpose along axis 0 to create matrix J\n",
        "mat_j = tf.concat(values=[mat_f, mat_g], axis=0)\n",
        "print(\"\\nMatrix J (Concatenation of Matrix F and its Transpose along Axis 0):\")\n",
        "print(mat_j.numpy())"
      ],
      "metadata": {
        "colab": {
          "base_uri": "https://localhost:8080/"
        },
        "id": "mKt_Iw5IHTkE",
        "outputId": "99d98752-2fc4-45f0-d0c0-e79b8b9e9f49"
      },
      "execution_count": 31,
      "outputs": [
        {
          "output_type": "stream",
          "name": "stdout",
          "text": [
            "Matrix F:\n",
            "[[2.200358   2.033645   2.8424072 ]\n",
            " [6.5518427  0.50438523 3.003136  ]\n",
            " [9.341659   3.2461202  2.0447958 ]]\n",
            "\n",
            "Matrix G (Transpose of Matrix F):\n",
            "[[2.200358   6.5518427  9.341659  ]\n",
            " [2.033645   0.50438523 3.2461202 ]\n",
            " [2.8424072  3.003136   2.0447958 ]]\n",
            "\n",
            "Matrix H (Element-wise Exponential of Matrix F):\n",
            "[[9.0282440e+00 7.6418896e+00 1.7157017e+01]\n",
            " [7.0053387e+02 1.6559671e+00 2.0148623e+01]\n",
            " [1.1403306e+04 2.5690472e+01 7.7275801e+00]]\n",
            "\n",
            "Matrix I (Concatenation of Matrix F and its Transpose along Axis 1):\n",
            "[[2.200358   2.033645   2.8424072  2.200358   6.5518427  9.341659  ]\n",
            " [6.5518427  0.50438523 3.003136   2.033645   0.50438523 3.2461202 ]\n",
            " [9.341659   3.2461202  2.0447958  2.8424072  3.003136   2.0447958 ]]\n",
            "\n",
            "Matrix J (Concatenation of Matrix F and its Transpose along Axis 0):\n",
            "[[2.200358   2.033645   2.8424072 ]\n",
            " [6.5518427  0.50438523 3.003136  ]\n",
            " [9.341659   3.2461202  2.0447958 ]\n",
            " [2.200358   6.5518427  9.341659  ]\n",
            " [2.033645   0.50438523 3.2461202 ]\n",
            " [2.8424072  3.003136   2.0447958 ]]\n"
          ]
        }
      ]
    },
    {
      "cell_type": "code",
      "source": [],
      "metadata": {
        "id": "uR2G-3JkJCWI"
      },
      "execution_count": null,
      "outputs": []
    }
  ]
}