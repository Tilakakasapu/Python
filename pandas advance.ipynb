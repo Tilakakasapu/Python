{
 "cells": [
  {
   "cell_type": "code",
   "execution_count": 15,
   "id": "c1d1b285-fd64-4e1c-9032-c5987c12e7d2",
   "metadata": {},
   "outputs": [
    {
     "data": {
      "text/plain": [
       "\"removingnan\\ndata = {'A': [1, 2, np.nan, 4],\\n        'B': [5, np.nan, 7, 8]}\\ndf = pd.DataFrame(data)\\nfilled_df = df.dropna(0)\""
      ]
     },
     "execution_count": 15,
     "metadata": {},
     "output_type": "execute_result"
    }
   ],
   "source": [
    "#five functons of pandas are\n",
    "#reading a csv file df = pd.read_csv('data.csv')\n",
    "\"\"\"grouping:\n",
    "data = {'Category': ['A', 'B', 'A', 'B', 'A'],\n",
    "        'Value': [10, 20, 15, 25, 30]}\n",
    "df = pd.DataFrame(data)\n",
    "grouped = df.groupby('Category').sum()\"\"\"\n",
    "\n",
    "\"\"\"merging\n",
    "df1 = pd.DataFrame({'ID': [1, 2, 3],\n",
    "                    'Name': ['Alice', 'Bob', 'Charlie']})\n",
    "df2 = pd.DataFrame({'ID': [2, 3, 4],\n",
    "                    'Age': [25, 30, 22]})\n",
    "merged_df = pd.merge(df1, df2, on='ID')\n",
    "\"\"\"\n",
    "\n",
    "\"\"\"filling nan\n",
    "data = {'A': [1, 2, np.nan, 4],\n",
    "        'B': [5, np.nan, 7, 8]}\n",
    "df = pd.DataFrame(data)\n",
    "filled_df = df.fillna(0)\"\"\"\n",
    "\"\"\"removingnan\n",
    "data = {'A': [1, 2, np.nan, 4],\n",
    "        'B': [5, np.nan, 7, 8]}\n",
    "df = pd.DataFrame(data)\n",
    "filled_df = df.dropna(0)\"\"\""
   ]
  },
  {
   "cell_type": "code",
   "execution_count": 15,
   "id": "c680cbe6-c3d6-41bb-8ba9-092fa3e28f9f",
   "metadata": {},
   "outputs": [
    {
     "name": "stdout",
     "output_type": "stream",
     "text": [
      "   A  B  C\n",
      "1  1  1  1\n",
      "3  2  2  2\n",
      "5  3  3  3\n",
      "7  4  4  4\n"
     ]
    }
   ],
   "source": [
    "import pandas as pd\n",
    "d = {'A':pd.Series([1,2,3,4]),'B':pd.Series([1,2,3,4]),'C':pd.Series([1,2,3,4])}\n",
    "df = pd.DataFrame(d)\n",
    "def reindex(df):\n",
    "    inde = []\n",
    "    for i in range(1,len(df)*2,2):\n",
    "        inde.append(i)\n",
    "    df1 = df.copy()\n",
    "    df1.index = inde\n",
    "    print(df1)\n",
    "reindex(df)\n"
   ]
  },
  {
   "cell_type": "code",
   "execution_count": 18,
   "id": "1292e3ca-c9d7-48a7-9f97-8673649893e9",
   "metadata": {},
   "outputs": [
    {
     "name": "stdout",
     "output_type": "stream",
     "text": [
      "60\n"
     ]
    }
   ],
   "source": [
    "import pandas as pd\n",
    "df = pd.DataFrame({'values':[10,20,30,40]})\n",
    "def sumofthree(df,column_name):\n",
    "    print(df[column_name][0:3].sum())\n",
    "sumofthree(df,'values')"
   ]
  },
  {
   "cell_type": "code",
   "execution_count": 20,
   "id": "f3d49129-c2c5-4ff8-8ce3-a8c150df5249",
   "metadata": {},
   "outputs": [
    {
     "data": {
      "text/html": [
       "<div>\n",
       "<style scoped>\n",
       "    .dataframe tbody tr th:only-of-type {\n",
       "        vertical-align: middle;\n",
       "    }\n",
       "\n",
       "    .dataframe tbody tr th {\n",
       "        vertical-align: top;\n",
       "    }\n",
       "\n",
       "    .dataframe thead th {\n",
       "        text-align: right;\n",
       "    }\n",
       "</style>\n",
       "<table border=\"1\" class=\"dataframe\">\n",
       "  <thead>\n",
       "    <tr style=\"text-align: right;\">\n",
       "      <th></th>\n",
       "      <th>Text</th>\n",
       "      <th>word_count</th>\n",
       "    </tr>\n",
       "  </thead>\n",
       "  <tbody>\n",
       "    <tr>\n",
       "      <th>0</th>\n",
       "      <td>tilak</td>\n",
       "      <td>5</td>\n",
       "    </tr>\n",
       "    <tr>\n",
       "      <th>1</th>\n",
       "      <td>saikiran</td>\n",
       "      <td>8</td>\n",
       "    </tr>\n",
       "    <tr>\n",
       "      <th>2</th>\n",
       "      <td>lokesh</td>\n",
       "      <td>6</td>\n",
       "    </tr>\n",
       "    <tr>\n",
       "      <th>3</th>\n",
       "      <td>eswar</td>\n",
       "      <td>5</td>\n",
       "    </tr>\n",
       "  </tbody>\n",
       "</table>\n",
       "</div>"
      ],
      "text/plain": [
       "       Text  word_count\n",
       "0     tilak           5\n",
       "1  saikiran           8\n",
       "2    lokesh           6\n",
       "3     eswar           5"
      ]
     },
     "execution_count": 20,
     "metadata": {},
     "output_type": "execute_result"
    }
   ],
   "source": [
    "import pandas as pd\n",
    "df = pd.DataFrame({'Text':['tilak','saikiran','lokesh','eswar']})\n",
    "df['word_count'] = df['Text'].apply(len)\n",
    "df"
   ]
  },
  {
   "cell_type": "code",
   "execution_count": 21,
   "id": "80a64c7f-1891-4dc9-af39-713f57d5df26",
   "metadata": {},
   "outputs": [],
   "source": [
    "#DataFrame.size returns the total number of elements in the DataFrame, which is equal to the number of rows multiplied by the number of columns.\n",
    "#DataFrame.shape returns a tuple representing the dimensions of the DataFrame in the form (rows, columns)."
   ]
  },
  {
   "cell_type": "code",
   "execution_count": 22,
   "id": "90a63bb5-5152-440b-83be-074f9308501d",
   "metadata": {},
   "outputs": [],
   "source": [
    "#we use pd.read_excel(filename) to raad an excel file"
   ]
  },
  {
   "cell_type": "code",
   "execution_count": 25,
   "id": "b4847aa4-4911-46c4-ad91-a5a3fc7157c3",
   "metadata": {},
   "outputs": [
    {
     "data": {
      "text/html": [
       "<div>\n",
       "<style scoped>\n",
       "    .dataframe tbody tr th:only-of-type {\n",
       "        vertical-align: middle;\n",
       "    }\n",
       "\n",
       "    .dataframe tbody tr th {\n",
       "        vertical-align: top;\n",
       "    }\n",
       "\n",
       "    .dataframe thead th {\n",
       "        text-align: right;\n",
       "    }\n",
       "</style>\n",
       "<table border=\"1\" class=\"dataframe\">\n",
       "  <thead>\n",
       "    <tr style=\"text-align: right;\">\n",
       "      <th></th>\n",
       "      <th>Email</th>\n",
       "      <th>UserName</th>\n",
       "    </tr>\n",
       "  </thead>\n",
       "  <tbody>\n",
       "    <tr>\n",
       "      <th>0</th>\n",
       "      <td>johndoe@example.com</td>\n",
       "      <td>johndoe</td>\n",
       "    </tr>\n",
       "    <tr>\n",
       "      <th>1</th>\n",
       "      <td>janesmith@example.com</td>\n",
       "      <td>janesmith</td>\n",
       "    </tr>\n",
       "    <tr>\n",
       "      <th>2</th>\n",
       "      <td>robertjohnson@example.com</td>\n",
       "      <td>robertjohnson</td>\n",
       "    </tr>\n",
       "    <tr>\n",
       "      <th>3</th>\n",
       "      <td>marybrown@example.com</td>\n",
       "      <td>marybrown</td>\n",
       "    </tr>\n",
       "    <tr>\n",
       "      <th>4</th>\n",
       "      <td>davidwilson@example.com</td>\n",
       "      <td>davidwilson</td>\n",
       "    </tr>\n",
       "  </tbody>\n",
       "</table>\n",
       "</div>"
      ],
      "text/plain": [
       "                       Email       UserName\n",
       "0        johndoe@example.com        johndoe\n",
       "1      janesmith@example.com      janesmith\n",
       "2  robertjohnson@example.com  robertjohnson\n",
       "3      marybrown@example.com      marybrown\n",
       "4    davidwilson@example.com    davidwilson"
      ]
     },
     "execution_count": 25,
     "metadata": {},
     "output_type": "execute_result"
    }
   ],
   "source": [
    "import pandas as pd\n",
    "\n",
    "data = {'Email': [\n",
    "    'johndoe@example.com',\n",
    "    'janesmith@example.com',\n",
    "    'robertjohnson@example.com',\n",
    "    'marybrown@example.com',\n",
    "    'davidwilson@example.com'\n",
    "]}\n",
    "\n",
    "df = pd.DataFrame(data)\n",
    "def user_name(x):\n",
    "    x = x.split('@')\n",
    "    return x[0]\n",
    "df['UserName'] = df['Email'].apply(user_name)\n",
    "df"
   ]
  },
  {
   "cell_type": "code",
   "execution_count": 1,
   "id": "bec45c71-89c7-47bc-b433-aa8e13a2321d",
   "metadata": {},
   "outputs": [
    {
     "name": "stdout",
     "output_type": "stream",
     "text": [
      "   A  B  C\n",
      "1  8  2  7\n",
      "4  9  1  2\n"
     ]
    }
   ],
   "source": [
    "import pandas as pd\n",
    "\n",
    "def filter_dataframe(df):\n",
    "    filtered_df = df[(df['A'] > 6) & (df['B'] < 10)]\n",
    "    return filtered_df\n",
    "\n",
    "# Sample DataFrame with columns 'A', 'B', and 'C'\n",
    "data = {'A': [3, 8, 6, 2, 9],\n",
    "        'B': [5, 2, 9, 3, 1],\n",
    "        'C': [1, 7, 4, 5, 2]}\n",
    "df = pd.DataFrame(data)\n",
    "\n",
    "# Call the function to filter the DataFrame\n",
    "filtered_df = filter_dataframe(df)\n",
    "\n",
    "print(filtered_df)\n"
   ]
  },
  {
   "cell_type": "code",
   "execution_count": 5,
   "id": "b02f8da3-388e-49d9-b033-30132fd5768b",
   "metadata": {},
   "outputs": [
    {
     "name": "stdout",
     "output_type": "stream",
     "text": [
      "25.0 25.0 166.66666666666666\n"
     ]
    }
   ],
   "source": [
    "import pandas as pd\n",
    "df = pd.DataFrame({'values':[10,20,30,40]})\n",
    "def centralTendancy(df):\n",
    "    mean = df['values'].mean()\n",
    "    median = df['values'].median()\n",
    "    var = df['values'].var()\n",
    "    print(mean,median,var)\n",
    "centralTendancy(df)"
   ]
  },
  {
   "cell_type": "code",
   "execution_count": 9,
   "id": "ba4128d9-07e1-451d-840b-334078e0e94c",
   "metadata": {},
   "outputs": [
    {
     "name": "stdout",
     "output_type": "stream",
     "text": [
      "   Sales        Date  MovingAverage\n",
      "0    100  2023-01-01     100.000000\n",
      "1    200  2023-01-02     150.000000\n",
      "2    150  2023-01-03     150.000000\n",
      "3    300  2023-01-04     187.500000\n",
      "4    250  2023-01-05     200.000000\n",
      "5    180  2023-01-06     196.666667\n",
      "6    220  2023-01-07     200.000000\n",
      "7    160  2023-01-08     208.571429\n",
      "8    280  2023-01-09     220.000000\n",
      "9    230  2023-01-10     231.428571\n"
     ]
    }
   ],
   "source": [
    "import pandas as pd\n",
    "\n",
    "def calculate_moving_average(df, window_size=7):\n",
    "    df['MovingAverage'] = df['Sales'].rolling(window=window_size, min_periods=1).mean()\n",
    "    return df\n",
    "\n",
    "# Sample DataFrame with columns 'Sales' and 'Date'\n",
    "data = {'Sales': [100, 200, 150, 300, 250, 180, 220, 160, 280, 230],\n",
    "        'Date': ['2023-01-01', '2023-01-02', '2023-01-03', '2023-01-04', '2023-01-05',\n",
    "                 '2023-01-06', '2023-01-07', '2023-01-08', '2023-01-09', '2023-01-10']}\n",
    "\n",
    "df = pd.DataFrame(data)\n",
    "# Call the function to calculate the moving average\n",
    "df = calculate_moving_average(df)\n",
    "\n",
    "print(df)\n"
   ]
  },
  {
   "cell_type": "code",
   "execution_count": 12,
   "id": "167c9670-42c3-41ef-b961-d50cddc0d38e",
   "metadata": {},
   "outputs": [
    {
     "data": {
      "text/html": [
       "<div>\n",
       "<style scoped>\n",
       "    .dataframe tbody tr th:only-of-type {\n",
       "        vertical-align: middle;\n",
       "    }\n",
       "\n",
       "    .dataframe tbody tr th {\n",
       "        vertical-align: top;\n",
       "    }\n",
       "\n",
       "    .dataframe thead th {\n",
       "        text-align: right;\n",
       "    }\n",
       "</style>\n",
       "<table border=\"1\" class=\"dataframe\">\n",
       "  <thead>\n",
       "    <tr style=\"text-align: right;\">\n",
       "      <th></th>\n",
       "      <th>Date</th>\n",
       "      <th>weekday</th>\n",
       "    </tr>\n",
       "  </thead>\n",
       "  <tbody>\n",
       "    <tr>\n",
       "      <th>0</th>\n",
       "      <td>2023-01-01</td>\n",
       "      <td>Sunday</td>\n",
       "    </tr>\n",
       "    <tr>\n",
       "      <th>1</th>\n",
       "      <td>2023-01-02</td>\n",
       "      <td>Monday</td>\n",
       "    </tr>\n",
       "    <tr>\n",
       "      <th>2</th>\n",
       "      <td>2023-01-03</td>\n",
       "      <td>Tuesday</td>\n",
       "    </tr>\n",
       "    <tr>\n",
       "      <th>3</th>\n",
       "      <td>2023-01-04</td>\n",
       "      <td>Wednesday</td>\n",
       "    </tr>\n",
       "    <tr>\n",
       "      <th>4</th>\n",
       "      <td>2023-01-05</td>\n",
       "      <td>Thursday</td>\n",
       "    </tr>\n",
       "  </tbody>\n",
       "</table>\n",
       "</div>"
      ],
      "text/plain": [
       "        Date    weekday\n",
       "0 2023-01-01     Sunday\n",
       "1 2023-01-02     Monday\n",
       "2 2023-01-03    Tuesday\n",
       "3 2023-01-04  Wednesday\n",
       "4 2023-01-05   Thursday"
      ]
     },
     "execution_count": 12,
     "metadata": {},
     "output_type": "execute_result"
    }
   ],
   "source": [
    "import pandas as pd\n",
    "\n",
    "data = {'Date': ['2023-01-01', '2023-01-02', '2023-01-03', '2023-01-04', '2023-01-05']}\n",
    "\n",
    "df = pd.DataFrame(data)\n",
    "df['Date'] = pd.to_datetime(df['Date'])\n",
    "def week(df):\n",
    "    df['weekday'] = df['Date'].dt.day_name()\n",
    "    return df\n",
    "week(df)"
   ]
  },
  {
   "cell_type": "code",
   "execution_count": 13,
   "id": "3d9907dd-efe5-457f-a028-e0f62587cafa",
   "metadata": {},
   "outputs": [
    {
     "name": "stdout",
     "output_type": "stream",
     "text": [
      "        Date\n",
      "0 2023-01-10\n",
      "1 2023-01-15\n",
      "3 2023-01-20\n",
      "4 2023-01-25\n"
     ]
    }
   ],
   "source": [
    "import pandas as pd\n",
    "\n",
    "def filter_date_range(df, start_date, end_date):\n",
    "    mask = (df['Date'] >= start_date) & (df['Date'] <= end_date)\n",
    "    filtered_df = df[mask]\n",
    "    return filtered_df\n",
    "\n",
    "# Sample DataFrame with column 'Date'\n",
    "data = {'Date': ['2023-01-10', '2023-01-15', '2023-02-05', '2023-01-20', '2023-01-25']}\n",
    "df = pd.DataFrame(data)\n",
    "\n",
    "# Convert the 'Date' column to datetime format\n",
    "df['Date'] = pd.to_datetime(df['Date'])\n",
    "\n",
    "# Call the function to filter the DataFrame\n",
    "filtered_df = filter_date_range(df, '2023-01-01', '2023-01-31')\n",
    "\n",
    "print(filtered_df)\n"
   ]
  },
  {
   "cell_type": "code",
   "execution_count": 14,
   "id": "3784cebb-67b8-4e4a-a9cd-38b23aca5fcd",
   "metadata": {},
   "outputs": [],
   "source": [
    "#to use the bassic functionality of pandas first pandas library need to be imported"
   ]
  },
  {
   "cell_type": "code",
   "execution_count": null,
   "id": "7cea3dd8-34a7-4cb0-91ae-8ba42df0bd5e",
   "metadata": {},
   "outputs": [],
   "source": []
  }
 ],
 "metadata": {
  "kernelspec": {
   "display_name": "Python 3 (ipykernel)",
   "language": "python",
   "name": "python3"
  },
  "language_info": {
   "codemirror_mode": {
    "name": "ipython",
    "version": 3
   },
   "file_extension": ".py",
   "mimetype": "text/x-python",
   "name": "python",
   "nbconvert_exporter": "python",
   "pygments_lexer": "ipython3",
   "version": "3.10.8"
  }
 },
 "nbformat": 4,
 "nbformat_minor": 5
}
