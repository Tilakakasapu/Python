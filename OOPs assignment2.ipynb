{
 "cells": [
  {
   "cell_type": "code",
   "execution_count": 3,
   "id": "2f32f35f-bac8-4126-86d0-0ba979183c59",
   "metadata": {},
   "outputs": [
    {
     "name": "stdout",
     "output_type": "stream",
     "text": [
      "Area of the Circle: 78.5\n",
      "Area of the Square: 16\n"
     ]
    }
   ],
   "source": [
    "#abstract method is hiding the implimentation of a task in oops.here the shape is abstract class having abstract method decorator any class that inherits shape has area method but its implememtation is hidden from user\n",
    "from abc import ABC, abstractmethod\n",
    "class Shape(ABC):\n",
    "    @abstractmethod\n",
    "    def Area(self):\n",
    "        pass\n",
    "\n",
    "class Circle(Shape):\n",
    "    def __init__(self, radius):\n",
    "        self.radius = radius\n",
    "\n",
    "    def Area(self):\n",
    "        return 3.14 * self.radius ** 2\n",
    "\n",
    "class Square(Shape):\n",
    "    def __init__(self, side):\n",
    "        self.side = side\n",
    "\n",
    "    def Area(self):\n",
    "        return self.side ** 2\n",
    "\n",
    "\n",
    "circle = Circle(5)\n",
    "square = Square(4)\n",
    "\n",
    "print(\"Area of the Circle:\", circle.Area())\n",
    "print(\"Area of the Square:\", square.Area())\n"
   ]
  },
  {
   "cell_type": "code",
   "execution_count": 9,
   "id": "ccb0f432-fe91-4089-8669-30216da10642",
   "metadata": {},
   "outputs": [
    {
     "name": "stdout",
     "output_type": "stream",
     "text": [
      "balance of tilak is 1000000\n"
     ]
    }
   ],
   "source": [
    "#abstraction is hiding the implementation where as the encapsulation is making a private attributes in a class\n",
    "#abstraction :\n",
    "from abc import ABC, abstractmethod\n",
    "class Animal(ABC):\n",
    "    @abstractmethod\n",
    "    def make_sound(self):\n",
    "        pass\n",
    "class Dog(Animal):\n",
    "    def make_sound(self):\n",
    "        return \"Woof!\"\n",
    "class Cat(Animal):\n",
    "    def make_sound(self):\n",
    "        return \"Meow!\"\n",
    "tommy = Dog()\n",
    "tommy.make_sound()#here we know a dog make woof sound with out knowing the implementation\n",
    "#enapsulation:\n",
    "class bank:\n",
    "    def __init__(self,name,balance):\n",
    "        self._name= name\n",
    "        self._balance = balance\n",
    "    def getbalance(self):\n",
    "        print(f\"balance of {self._name} is {self._balance}\")\n",
    "#here balance and name are private attributes and these are accessed through getter get balane here we are privating the balane because we dont want them to change the balance for seurity purposes...\n",
    "sbi = bank(\"tilak\",1000000)\n",
    "sbi.getbalance()\n",
    "        "
   ]
  },
  {
   "cell_type": "code",
   "execution_count": 10,
   "id": "329222bf-9604-408c-af80-a3562c1bf69e",
   "metadata": {},
   "outputs": [],
   "source": [
    "#abc module stands for \"Abstract Base Classes.\" It provides tools to work with abstract classes and interfaces\n",
    "#abc module is to support the creation of abstract base classes. An abstract base class is a class that cannot be instantiated directly but serves as a blueprint for other classes."
   ]
  },
  {
   "cell_type": "code",
   "execution_count": 11,
   "id": "deb55ab6-245d-48ed-bb8a-249cd06a461b",
   "metadata": {},
   "outputs": [],
   "source": [
    "#Data abstraction can be achieved in programming through the use of Abstract Data Types (ADTs) and access control mechanisms. \n",
    "#Abstract Data Types are a way to define a data structure along with the operations that can be performed on it, without exposing the underlying implementation details to the user.\n",
    "#Access control mechanisms help in hiding the internal representation of data from unauthorized access and modification."
   ]
  },
  {
   "cell_type": "code",
   "execution_count": null,
   "id": "d4975192-6634-4a24-a804-f5868c2e68a6",
   "metadata": {},
   "outputs": [],
   "source": [
    "'''No, you cannot create an instance of an abstract class in Python.\n",
    "Abstract classes are designed to be incomplete and act as blueprints for other classes to inherit from.\n",
    "They contain one or more abstract methods (methods without implementation) that must be overridden by the subclasses to provide concrete implementations.'''"
   ]
  }
 ],
 "metadata": {
  "kernelspec": {
   "display_name": "Python 3 (ipykernel)",
   "language": "python",
   "name": "python3"
  },
  "language_info": {
   "codemirror_mode": {
    "name": "ipython",
    "version": 3
   },
   "file_extension": ".py",
   "mimetype": "text/x-python",
   "name": "python",
   "nbconvert_exporter": "python",
   "pygments_lexer": "ipython3",
   "version": "3.10.8"
  }
 },
 "nbformat": 4,
 "nbformat_minor": 5
}
