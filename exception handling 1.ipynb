{
 "cells": [
  {
   "cell_type": "code",
   "execution_count": 1,
   "id": "66d236f1-36da-4110-97af-3c92912c3d05",
   "metadata": {},
   "outputs": [],
   "source": [
    "#exception in python are some errors that occur when there is something wrong with the program \n",
    "#syntax errors are errors that occur when the syntax tthat is the structure for example spelling of key words etc are wrong \n",
    "#the difference is that the exceptions are errors that can be managed through the try and except mechanism aand the syntax errors are those that cannot be managed and stops the code from executing\n"
   ]
  },
  {
   "cell_type": "code",
   "execution_count": 3,
   "id": "f2079b7c-c99a-4af8-95c5-4f0d612292f3",
   "metadata": {},
   "outputs": [
    {
     "name": "stdout",
     "output_type": "stream",
     "text": [
      "there is an error: division by zero\n",
      "hello\n"
     ]
    },
    {
     "ename": "ZeroDivisionError",
     "evalue": "division by zero",
     "output_type": "error",
     "traceback": [
      "\u001b[0;31m---------------------------------------------------------------------------\u001b[0m",
      "\u001b[0;31mZeroDivisionError\u001b[0m                         Traceback (most recent call last)",
      "Cell \u001b[0;32mIn[3], line 7\u001b[0m\n\u001b[1;32m      5\u001b[0m \u001b[38;5;28mprint\u001b[39m(\u001b[38;5;124m\"\u001b[39m\u001b[38;5;124mhello\u001b[39m\u001b[38;5;124m\"\u001b[39m)\n\u001b[1;32m      6\u001b[0m \u001b[38;5;66;03m#here exceptionn is handled and the code is executed with out any error\u001b[39;00m\n\u001b[0;32m----> 7\u001b[0m \u001b[38;5;241;43m37\u001b[39;49m\u001b[38;5;241;43m/\u001b[39;49m\u001b[38;5;241;43m0\u001b[39;49m\n\u001b[1;32m      8\u001b[0m \u001b[38;5;28mprint\u001b[39m(\u001b[38;5;124m\"\u001b[39m\u001b[38;5;124mhii\u001b[39m\u001b[38;5;124m\"\u001b[39m)\n\u001b[1;32m      9\u001b[0m \u001b[38;5;66;03m#in this case the error occurs and stops the code from executing that is the print statement is not executed\u001b[39;00m\n",
      "\u001b[0;31mZeroDivisionError\u001b[0m: division by zero"
     ]
    }
   ],
   "source": [
    "try:\n",
    "    37/0\n",
    "except ZeroDivisionError as e:\n",
    "    print(\"there is an error:\",e)\n",
    "print(\"hello\")\n",
    "#here exceptionn is handled and the code is executed with out any error\n",
    "37/0\n",
    "print(\"hii\")\n",
    "#in this case the error occurs and stops the code from executing that is the print statement is not executed"
   ]
  },
  {
   "cell_type": "code",
   "execution_count": 5,
   "id": "db442501-ac52-4b14-8efb-23291e869bef",
   "metadata": {},
   "outputs": [
    {
     "name": "stdout",
     "output_type": "stream",
     "text": [
      "got a error: [Errno 2] No such file or directory: 'n.txt'\n"
     ]
    }
   ],
   "source": [
    "#try and except statements are used to catch and handle exceptions\n",
    "try:\n",
    "    with open(\"n.txt\",'r') as f:\n",
    "        f.write('2')\n",
    "except FileNotFoundError as e:\n",
    "    print('got a error:',e)\n",
    "except NameError as e:\n",
    "    print('error!',e)\n",
    "except Exception as e:\n",
    "    print(e)\n",
    "#here the file not found error is managed and nameerror is them managed in hierarchical order \n",
    "    "
   ]
  },
  {
   "cell_type": "code",
   "execution_count": 6,
   "id": "0692258e-0f17-4b87-85d5-371a310c3f3f",
   "metadata": {},
   "outputs": [
    {
     "name": "stdout",
     "output_type": "stream",
     "text": [
      "division by zero\n",
      "successful with out any error\n"
     ]
    }
   ],
   "source": [
    "try:\n",
    "    10/0\n",
    "except Exception as e:\n",
    "    print(e)\n",
    "else:\n",
    "    print(\"successful with out error\")\n",
    "#else block is used after except block and it will be only executed if there is no exception has raised in this case the else is not executed and else in below example is executed \n",
    "try:\n",
    "    10/10\n",
    "except Excception as e:\n",
    "    print(e)\n",
    "else:\n",
    "    print('successful with out any error')\n",
    "    "
   ]
  },
  {
   "cell_type": "code",
   "execution_count": 7,
   "id": "d904b302-c7e8-43be-902b-a912f77ca1ff",
   "metadata": {},
   "outputs": [
    {
     "name": "stdout",
     "output_type": "stream",
     "text": [
      "[Errno 2] No such file or directory: 'tilak.txt'\n",
      "this block is always executed\n"
     ]
    }
   ],
   "source": [
    "#finally block is always executed regardless of the error is raised or not\n",
    "try:\n",
    "    f=open('tilak.txt','r')\n",
    "except Exception as e:\n",
    "    print(e)\n",
    "finally:\n",
    "    print(\"this block is always executed\")"
   ]
  },
  {
   "cell_type": "code",
   "execution_count": 9,
   "id": "c2fc3112-3e93-4a39-8751-0c520fbc18f5",
   "metadata": {},
   "outputs": [
    {
     "name": "stdout",
     "output_type": "stream",
     "text": [
      "ERROR cannot divide with 0\n"
     ]
    }
   ],
   "source": [
    "#raise is used to raise custom exceptions \n",
    "class DivErr(Exception):\n",
    "    def __init__(self,msg):\n",
    "        self.msg = msg\n",
    "def division(a,b):\n",
    "    if b == 0:\n",
    "        raise DivErr(\"ERROR cannot divide with 0\")\n",
    "    else:\n",
    "        return a/b\n",
    "try:\n",
    "    a = division(10,0)\n",
    "except Exception as e:\n",
    "    print(e)"
   ]
  },
  {
   "cell_type": "code",
   "execution_count": 12,
   "id": "9098a99b-af09-40e6-8417-fcee93c6fba0",
   "metadata": {},
   "outputs": [
    {
     "name": "stdout",
     "output_type": "stream",
     "text": [
      "user name only contains alphabets\n"
     ]
    }
   ],
   "source": [
    "#custom exeptions in python are used defined exccptions basically it is used in cases if it is not an exception for python but it is exception for user\n",
    "#we use custom exceptions to raise exceptions that are defined by user\n",
    "class error(Exception):\n",
    "    def __init__(self,msg):\n",
    "        self.msg = msg\n",
    "def username(name):\n",
    "    if name.isalnum()==True:\n",
    "        raise error(\"user name only contains alphabets\")\n",
    "    else:\n",
    "        print('user name is ok')\n",
    "try:\n",
    "    user = \"tilak12\"\n",
    "    username(user)\n",
    "except Exception as e:\n",
    "    print(e)\n",
    "    "
   ]
  },
  {
   "cell_type": "code",
   "execution_count": 7,
   "id": "ae925bd4-7b68-45c2-96e0-06ce19251f08",
   "metadata": {},
   "outputs": [
    {
     "name": "stdin",
     "output_type": "stream",
     "text": [
      "enter your age: 233\n"
     ]
    },
    {
     "ename": "age_check",
     "evalue": "age cannot be this much high",
     "output_type": "error",
     "traceback": [
      "\u001b[0;31m---------------------------------------------------------------------------\u001b[0m",
      "\u001b[0;31mage_check\u001b[0m                                 Traceback (most recent call last)",
      "Cell \u001b[0;32mIn[7], line 13\u001b[0m\n\u001b[1;32m     11\u001b[0m         \u001b[38;5;28mprint\u001b[39m(\u001b[38;5;124m\"\u001b[39m\u001b[38;5;124mok\u001b[39m\u001b[38;5;124m\"\u001b[39m)\n\u001b[1;32m     12\u001b[0m age \u001b[38;5;241m=\u001b[39m \u001b[38;5;28mint\u001b[39m(\u001b[38;5;28minput\u001b[39m(\u001b[38;5;124m'\u001b[39m\u001b[38;5;124menter your age:\u001b[39m\u001b[38;5;124m'\u001b[39m))\n\u001b[0;32m---> 13\u001b[0m \u001b[43mcheckage\u001b[49m\u001b[43m(\u001b[49m\u001b[43mage\u001b[49m\u001b[43m)\u001b[49m\n",
      "Cell \u001b[0;32mIn[7], line 7\u001b[0m, in \u001b[0;36mcheckage\u001b[0;34m(age)\u001b[0m\n\u001b[1;32m      5\u001b[0m \u001b[38;5;28;01mdef\u001b[39;00m \u001b[38;5;21mcheckage\u001b[39m(age):\n\u001b[1;32m      6\u001b[0m     \u001b[38;5;28;01mif\u001b[39;00m age\u001b[38;5;241m>\u001b[39m\u001b[38;5;241m120\u001b[39m:\n\u001b[0;32m----> 7\u001b[0m         \u001b[38;5;28;01mraise\u001b[39;00m age_check(\u001b[38;5;124m\"\u001b[39m\u001b[38;5;124mage cannot be this much high\u001b[39m\u001b[38;5;124m\"\u001b[39m)\n\u001b[1;32m      8\u001b[0m     \u001b[38;5;28;01melif\u001b[39;00m age \u001b[38;5;241m<\u001b[39m\u001b[38;5;241m0\u001b[39m:\n\u001b[1;32m      9\u001b[0m         \u001b[38;5;28;01mraise\u001b[39;00m age_check(\u001b[38;5;124m\"\u001b[39m\u001b[38;5;124minvaid age\u001b[39m\u001b[38;5;124m\"\u001b[39m)\n",
      "\u001b[0;31mage_check\u001b[0m: age cannot be this much high"
     ]
    }
   ],
   "source": [
    "#custom exception class\n",
    "class age_check(Exception):\n",
    "    def __init__(self,ms):\n",
    "        self.msg = ms\n",
    "def checkage(age):\n",
    "    if age>120:\n",
    "        raise age_check(\"age cannot be this much high\")\n",
    "    elif age <0:\n",
    "        raise age_check(\"invaid age\")\n",
    "    else:\n",
    "        print(\"ok\")\n",
    "age = int(input('enter your age:'))\n",
    "checkage(age)"
   ]
  },
  {
   "cell_type": "code",
   "execution_count": null,
   "id": "7a584399-546f-4834-9bc1-e7c9535cc530",
   "metadata": {},
   "outputs": [],
   "source": []
  }
 ],
 "metadata": {
  "kernelspec": {
   "display_name": "Python 3 (ipykernel)",
   "language": "python",
   "name": "python3"
  },
  "language_info": {
   "codemirror_mode": {
    "name": "ipython",
    "version": 3
   },
   "file_extension": ".py",
   "mimetype": "text/x-python",
   "name": "python",
   "nbconvert_exporter": "python",
   "pygments_lexer": "ipython3",
   "version": "3.10.8"
  }
 },
 "nbformat": 4,
 "nbformat_minor": 5
}
