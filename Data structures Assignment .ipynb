{
 "cells": [
  {
   "cell_type": "code",
   "execution_count": 3,
   "id": "db030ef2-0224-4b9e-a30b-fb3eb708b6e7",
   "metadata": {},
   "outputs": [],
   "source": [
    "#Q1\n",
    "#Comments in python are used if you want to add Some information about code that is not executed..\n",
    "# we can add comment in python in two ways they are single line comments and double line comments\n",
    "# single Line Comments are comments that are written in a single line they are commented by adding hashtag(#) before the information or anything that you want to comment.\n",
    "#multi-line comments are used if you want comment that are in multiple lines.\n",
    "#they are commented by placing triple quotations.('' ') \n"
   ]
  },
  {
   "cell_type": "code",
   "execution_count": 4,
   "id": "56da4a4b-77c1-414d-acf3-eff481ac9dd3",
   "metadata": {},
   "outputs": [],
   "source": [
    "#Q2\n",
    "#variables in python are the reference of the objects that we are creating\n",
    "#for example\n",
    "V1 = 123\n",
    "V2 = \"Hello\" \n",
    "# here v1 and v2 are variables and v1 is assigned to Integer and v2 is assigned to a string\n",
    "#Like this way variables are declared in python "
   ]
  },
  {
   "cell_type": "code",
   "execution_count": 10,
   "id": "99490efe-f046-46a2-b6f0-1db4c9556349",
   "metadata": {},
   "outputs": [
    {
     "name": "stdout",
     "output_type": "stream",
     "text": [
      "234\n",
      "256\n",
      "(1, 2, 563, 73)\n"
     ]
    }
   ],
   "source": [
    "#Q3\n",
    "#converting one datatype to another datatype in python is called type casting\n",
    "#we can convert a str to int in the following way\n",
    "strint ='234' \n",
    "int(strint) \n",
    "print(strint)\n",
    "intstr=256\n",
    "str(intstr)\n",
    "print(intstr)\n",
    "#in above examples str is converted to int and viceversa\n",
    "\n",
    "list_1=[1,2,'string']\n",
    "tuple(list_1)\n",
    "tup=(1,2,563,73)\n",
    "list(tup)#tuple is converted to list\n",
    "print(tup)#by changing like this it is a temporary change\n",
    "#it becomes permanent when we assign it to a variable \n",
    "#we can convert a datatyep into different data types in following ways\n",
    "set()\n",
    "list()\n",
    "tuple()\n",
    "int()\n",
    "str()\n",
    "float()"
   ]
  },
  {
   "cell_type": "code",
   "execution_count": null,
   "id": "1dce33e6-b44e-4ed7-a58d-bcfd0e4aad51",
   "metadata": {},
   "outputs": [],
   "source": [
    "#Q4\n",
    "#to create and rum python from command line follow the following steps\n",
    "#1 open any text editor and create a file with a .py extension for example create a myfile.py file and save it\n",
    "#2 now edit the file using the text editor and write your python code after that save the file\n",
    "#3 Now open the command prompt if you are using windows or terminal is you are Using  Linux\n",
    "#4 now Navigate to the directory where you saved the Python file. Use the cd command to change directories. For example, if the file is saved on your desktop: Use CD Desktop command\n",
    "#5 now type python and then type name of the file that you are saved here in my case it is python  my file.py \n",
    "#6 Your python file is executed and output is displayed. "
   ]
  },
  {
   "cell_type": "code",
   "execution_count": 12,
   "id": "3163aca7-1f26-4479-b257-1a10decc7dc4",
   "metadata": {},
   "outputs": [
    {
     "name": "stdout",
     "output_type": "stream",
     "text": [
      "[2, 3]\n"
     ]
    }
   ],
   "source": [
    "#Q5\n",
    "my_list =[1,2,3,4,5] \n",
    "sub_list = my_list[1:3] \n",
    "print(sub_list) "
   ]
  },
  {
   "cell_type": "code",
   "execution_count": 3,
   "id": "d01882cb-0167-49d7-8f27-3b712ba4f66f",
   "metadata": {},
   "outputs": [
    {
     "name": "stdout",
     "output_type": "stream",
     "text": [
      "(2+3j)\n"
     ]
    }
   ],
   "source": [
    "#Q6\n",
    "#Complex numbers are the type of numbers that are represented in the form a+bi here a represent a real component and b represents a imaginary component and I is the square root of - 1.\n",
    "#In the similar way we can declare complex number in python\n",
    "z = 2+3j\n",
    "#here 2 and 3 are real numbers and 2 represents real Component and 3 represents complex component.\n",
    "print(z) \n",
    "# we can also do operations like addition subtraction multiplication and division..\n"
   ]
  },
  {
   "cell_type": "code",
   "execution_count": null,
   "id": "ef7b9504-1b53-402b-9b2c-7d032b252e0c",
   "metadata": {},
   "outputs": [],
   "source": [
    "#Q7\n",
    "#we can ddeclare a age in the correct way like this\n",
    "age = 25\n",
    "#we can assign values using assignment operator =\n",
    "# name age should not start with any special characters except underscore and it also does not start with a number\n",
    "# variable should only contain alpha numeric character and underscore. \n"
   ]
  },
  {
   "cell_type": "code",
   "execution_count": null,
   "id": "2431acf8-348b-4889-9cb2-b985e59ad7f3",
   "metadata": {},
   "outputs": [],
   "source": [
    "#Q8\n",
    "price = 9.99\n",
    "print(type(price))\n",
    "#it belong to float data type"
   ]
  },
  {
   "cell_type": "code",
   "execution_count": null,
   "id": "808585d2-3c69-4da1-894d-aec38e909106",
   "metadata": {},
   "outputs": [],
   "source": [
    "#Q9\n",
    "name = \"Tilak Devi Prasanth\"\n",
    "print(name) "
   ]
  },
  {
   "cell_type": "code",
   "execution_count": 7,
   "id": "2ea9c354-9227-40a4-bac3-88c43597300e",
   "metadata": {},
   "outputs": [
    {
     "name": "stdout",
     "output_type": "stream",
     "text": [
      "World!\n"
     ]
    }
   ],
   "source": [
    "#Q10\n",
    "String = \"Hello,World!\" \n",
    "Sub_str= String[6:12] \n",
    "print(Sub_str) "
   ]
  },
  {
   "cell_type": "code",
   "execution_count": 8,
   "id": "4919f2ec-a622-4dcf-b6d9-484224751ad4",
   "metadata": {},
   "outputs": [
    {
     "name": "stdout",
     "output_type": "stream",
     "text": [
      "True\n"
     ]
    }
   ],
   "source": [
    "#Q11\n",
    "is_student = True\n",
    "print(is_student) "
   ]
  },
  {
   "cell_type": "code",
   "execution_count": null,
   "id": "d9d1e203-c81b-4aeb-b72b-6c2e5b00e5b1",
   "metadata": {},
   "outputs": [],
   "source": []
  }
 ],
 "metadata": {
  "kernelspec": {
   "display_name": "Python 3 (ipykernel)",
   "language": "python",
   "name": "python3"
  },
  "language_info": {
   "codemirror_mode": {
    "name": "ipython",
    "version": 3
   },
   "file_extension": ".py",
   "mimetype": "text/x-python",
   "name": "python",
   "nbconvert_exporter": "python",
   "pygments_lexer": "ipython3",
   "version": "3.10.8"
  }
 },
 "nbformat": 4,
 "nbformat_minor": 5
}
