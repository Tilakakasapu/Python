{
 "cells": [
  {
   "cell_type": "raw",
   "id": "1b2b5b87-a9a1-4980-a4cd-faa29920bfe2",
   "metadata": {},
   "source": []
  },
  {
   "cell_type": "code",
   "execution_count": null,
   "id": "f255107a-151c-4cd4-9638-c73dd6ecb0d4",
   "metadata": {},
   "outputs": [],
   "source": [
    "#Q1\n",
    "# DEF KEYWORD IS USED TO CREATE A FUNCTION\n",
    "def print_odd(n):\n",
    "    for i in range(1,n+1):\n",
    "        if (i%2 == 0):\n",
    "            pass\n",
    "        else:\n",
    "            print(i) \n",
    "#n = int(input(\"enter a number\"))\n",
    "#take 25 you will get odd numbers upto 25\n",
    "print_odd(25)"
   ]
  },
  {
   "cell_type": "code",
   "execution_count": 22,
   "id": "ca8e5738-bb4f-468f-851a-999937f5dfd5",
   "metadata": {},
   "outputs": [
    {
     "name": "stdout",
     "output_type": "stream",
     "text": [
      "name:tilak\n",
      "age:17\n",
      "clas:data science masters\n"
     ]
    }
   ],
   "source": [
    "#*args is used in python to pass a variable no of arguments to a function, with in the function *args is treated as a tuple containing all passed arguments\n",
    "def sum_numbers(*args):\n",
    "    total = 0\n",
    "    for i in args:\n",
    "        total += i\n",
    "    return(total)\n",
    "sum_numbers(1,2,3,4,5,6,7,3,4,6,5)\n",
    "#*kwargs is used to pass a variable no of arguments to a function,with in a function *kwargs is treated as dictionary they are keyword arguments and it is treated as dict\n",
    "def print_info(**kwargs):\n",
    "    for k,v in kwargs.items():\n",
    "        print(k+\":\"+v)\n",
    "print_info(name=\"tilak\",age=\"17\",clas=\"data science masters\")\n"
   ]
  },
  {
   "cell_type": "code",
   "execution_count": 26,
   "id": "f696a686-6cc8-449a-b177-7cf5aa76e3e5",
   "metadata": {},
   "outputs": [
    {
     "name": "stdout",
     "output_type": "stream",
     "text": [
      "2\n",
      "4\n",
      "6\n",
      "8\n",
      "10\n"
     ]
    }
   ],
   "source": [
    "#q3\n",
    "#iterators are used to iterate through a sq=equence of elements or values one at a time\n",
    "# to initialise the iterators we have to use the function iter() it makes a object iterable like list tuple etc\n",
    "my_list =[2,4,6,8,10,12,14,16,18,20]\n",
    "list_ = iter(my_list)\n",
    "print(next(list_))\n",
    "print(next(list_))\n",
    "print(next(list_))\n",
    "print(next(list_))\n",
    "print(next(list_))\n"
   ]
  },
  {
   "cell_type": "code",
   "execution_count": 28,
   "id": "8e01f640-ee82-4a35-9ae9-d2383d747123",
   "metadata": {},
   "outputs": [
    {
     "name": "stdout",
     "output_type": "stream",
     "text": [
      "0\n",
      "2\n",
      "4\n",
      "6\n",
      "8\n"
     ]
    }
   ],
   "source": [
    "# generator function is a special type of function that generates a sequence ofvalues instead of returing a single value.\n",
    "#yield is used instead of return to produce a series of values one at a time.\n",
    "def even_(n):\n",
    "    i = 0\n",
    "    while i<n:\n",
    "        yield i\n",
    "        i+=2\n",
    "even_num = even_(10)\n",
    "print(next(even_num))\n",
    "print(next(even_num))\n",
    "print(next(even_num))\n",
    "print(next(even_num))\n",
    "print(next(even_num))\n"
   ]
  },
  {
   "cell_type": "code",
   "execution_count": 7,
   "id": "029c8a25-f25c-4895-9516-851cd9787cc4",
   "metadata": {},
   "outputs": [
    {
     "name": "stdout",
     "output_type": "stream",
     "text": [
      "2\n",
      "3\n",
      "5\n",
      "7\n"
     ]
    }
   ],
   "source": [
    "def prime(n):\n",
    "    for i in range(1,n):\n",
    "        if(i==2):\n",
    "            yield i\n",
    "        elif(i>2):\n",
    "            for j in range(2,i):\n",
    "                is_prime=True\n",
    "                if i%j==0:\n",
    "                    is_prime = False\n",
    "                    break\n",
    "            if is_prime:\n",
    "                yield i\n",
    "n=prime(1000)                  \n",
    "print(next(n))\n",
    "print(next(n))\n",
    "print(next(n))\n",
    "print(next(n))\n",
    "        "
   ]
  },
  {
   "cell_type": "code",
   "execution_count": null,
   "id": "d8099545-0ae0-4de4-9a7e-d96d15a9399d",
   "metadata": {},
   "outputs": [],
   "source": [
    "def fibonacci(n):\n",
    "    if n <= 0:\n",
    "        return []\n",
    "\n",
    "    fib_nums = [0, 1]\n",
    "    count = 2\n",
    "\n",
    "    while count < n:\n",
    "        fib_nums.append(fib_nums[count - 1] + fib_nums[count - 2])\n",
    "        count += 1\n",
    "\n",
    "    return fib_nums\n",
    "#n = int(input(\"Enter the number of Fibonacci numbers to generate: \"))\n",
    "fib_sequence = fibonacci(11)\n",
    "print(fib_sequence)\n"
   ]
  },
  {
   "cell_type": "code",
   "execution_count": 3,
   "id": "f8cdbf19-adff-448d-8f2d-5138a6f5a25a",
   "metadata": {},
   "outputs": [
    {
     "name": "stdout",
     "output_type": "stream",
     "text": [
      "['P', 'W', 'S', 'K', 'I', 'L', 'L', 'S']\n"
     ]
    }
   ],
   "source": [
    "St='PWSKILLS' \n",
    "li_1=[x for x in St] \n",
    "print(li_1) "
   ]
  },
  {
   "cell_type": "code",
   "execution_count": 4,
   "id": "14930f5b-8f74-45d0-97b4-46bf1adeb304",
   "metadata": {},
   "outputs": [
    {
     "name": "stdout",
     "output_type": "stream",
     "text": [
      "palendrome\n"
     ]
    }
   ],
   "source": [
    "St=\"madam\" \n",
    "def palendrome(stri):\n",
    "    left=0\n",
    "    right=len(stri) -1\n",
    "    while left<right:\n",
    "        if stri[left]!=stri[right]:\n",
    "            return False\n",
    "        left+=1\n",
    "        right -=1\n",
    "    return True\n",
    "if palendrome(St):\n",
    "    print ('palendrome')\n",
    "    \n",
    "    "
   ]
  },
  {
   "cell_type": "code",
   "execution_count": 5,
   "id": "da4a4aeb-de7c-4f59-bbd8-5fdbd8f49a13",
   "metadata": {},
   "outputs": [
    {
     "name": "stdout",
     "output_type": "stream",
     "text": [
      "[1, 3, 5, 7, 9, 11, 13, 15, 17, 19, 21, 23, 25, 27, 29, 31, 33, 35, 37, 39, 41, 43, 45, 47, 49, 51, 53, 55, 57, 59, 61, 63, 65, 67, 69, 71, 73, 75, 77, 79, 81, 83, 85, 87, 89, 91, 93, 95, 97, 99]\n"
     ]
    }
   ],
   "source": [
    "li=[x for x in range(1,101)] \n",
    "l2=[x for x in li if x%2!=0]\n",
    "print(l2) "
   ]
  },
  {
   "cell_type": "code",
   "execution_count": null,
   "id": "bf65074c-b977-4047-93ce-ca5acaaa97cc",
   "metadata": {},
   "outputs": [],
   "source": []
  }
 ],
 "metadata": {
  "kernelspec": {
   "display_name": "Python 3 (ipykernel)",
   "language": "python",
   "name": "python3"
  },
  "language_info": {
   "codemirror_mode": {
    "name": "ipython",
    "version": 3
   },
   "file_extension": ".py",
   "mimetype": "text/x-python",
   "name": "python",
   "nbconvert_exporter": "python",
   "pygments_lexer": "ipython3",
   "version": "3.10.8"
  }
 },
 "nbformat": 4,
 "nbformat_minor": 5
}
